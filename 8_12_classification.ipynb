{
 "cells": [
  {
   "cell_type": "markdown",
   "metadata": {},
   "source": [
    "# R squared intuition\n",
    "\n",
    "R squared - we sum of squared sums distances to regression line - SSres.\n",
    "\n",
    "R^2 = 1 - SSres / SStot\n",
    "\n",
    "SStot the distance to a simple horizontal line.\n",
    "\n",
    "How good is our line compared to a simple average?"
   ]
  },
  {
   "cell_type": "markdown",
   "metadata": {},
   "source": [
    "# Adjusted R^2\n",
    "\n",
    "R^2 - greater is better. We want to get it close to one.\n",
    "\n",
    "But what happens if we just pile up complexity in our model? R^2 will never decrease.\n",
    "\n",
    "What it does is adjusting for number of regressions."
   ]
  },
  {
   "cell_type": "markdown",
   "metadata": {},
   "source": [
    "# Evaluating model performance\n",
    "\n",
    "How to know whether we should have kept a particular variable?\n",
    "\n",
    "Follow rules, but trace for instance adjusted R squared. Is it growing?"
   ]
  },
  {
   "cell_type": "markdown",
   "metadata": {},
   "source": [
    "# Interpreting linear regression coefficients\n",
    "\n",
    "If sign is positive - then we have a positive correlation. Magnitude is tricky here though as they tightly depend on scale of variables."
   ]
  },
  {
   "cell_type": "markdown",
   "metadata": {},
   "source": [
    "# Wrap\n",
    "\n",
    "## Pros and cons with each model\n",
    "\n",
    "* Linear regression\n",
    "  * Works on any size and gives information about relevance of features, but relies on linear regression assumptions\n",
    "* Polynomial regression\n",
    "  * Works on any size, works well for non linear\n",
    "  * Need right polynomial degree\n",
    "* SVR\n",
    "  * Easily adaptable and works well on non linear, and is not biased by outliers\n",
    "  * Compulsory scaling, less known, difficult to understand\n",
    "* Decision tree\n",
    "  * Easy to interpret, no scaling needed, works on both linear and non-linear\n",
    "  * Poor in small, overfitting can occur\n",
    "* Random forest\n",
    "  * Powerful and accurate, good performance for many including linear\n",
    "  * No interpretability, overfitting can occur, need to choose number of trees\n",
    "\n",
    "## Choosing model\n",
    "\n",
    "* Is data linear? Or not?\n",
    "* If it is\n",
    "  * Simple linear\n",
    "  * Multiple linear if we have many features\n",
    "* If not\n",
    "  * Polynomial regression\n",
    "  * SVR\n",
    "  * Decision tree\n",
    "  * Random forest\n",
    "* How to choose? k-Fold cross validation.\n",
    "\n",
    "## How to improve?\n",
    "\n",
    "* Tune parameters\n",
    "* Regular\n",
    "  * Coefficients in linear regression\n",
    "  * Hyperparameters - Not learned, but fixed inside equations, like regularization or penalty"
   ]
  },
  {
   "cell_type": "markdown",
   "metadata": {},
   "source": [
    "# Classification\n",
    "\n",
    "Instead of predicting continuous number we use classification to predict a category.\n",
    "\n",
    "Available classifiers:\n",
    "\n",
    "* Logistic regression (linear)\n",
    "* SVM (linear)\n",
    "* K-NN (non-linear)\n",
    "* Kernel SVM (non-linear)\n",
    "* Random forests (non-linear)\n",
    "* Naive Bayes"
   ]
  },
  {
   "cell_type": "markdown",
   "metadata": {},
   "source": [
    "## Logistic regression\n",
    "\n",
    "Hard to model 0/1 category approach here. Instead we can do probability model. Percentage change of picking one choice or another.\n",
    "\n",
    "Sigmoid function. Smoothen out things.\n",
    "\n",
    "Convert to prediction: Put in fixed line. If below - predicted 0. If above - predicted 1."
   ]
  },
  {
   "cell_type": "markdown",
   "metadata": {},
   "source": [
    "# Exercises"
   ]
  },
  {
   "cell_type": "code",
   "execution_count": 1,
   "metadata": {
    "collapsed": false
   },
   "outputs": [
    {
     "name": "stderr",
     "output_type": "stream",
     "text": [
      "Warning message:\n",
      "\"package 'tidyverse' was built under R version 3.4.4\"-- Attaching packages --------------------------------------- tidyverse 1.2.1 --\n",
      "v ggplot2 2.2.1     v purrr   0.2.4\n",
      "v tibble  1.4.1     v dplyr   0.7.4\n",
      "v tidyr   0.8.0     v stringr 1.2.0\n",
      "v readr   1.1.1     v forcats 0.3.0\n",
      "Warning message:\n",
      "\"package 'tidyr' was built under R version 3.4.4\"Warning message:\n",
      "\"package 'readr' was built under R version 3.4.4\"Warning message:\n",
      "\"package 'forcats' was built under R version 3.4.4\"-- Conflicts ------------------------------------------ tidyverse_conflicts() --\n",
      "x dplyr::filter() masks stats::filter()\n",
      "x dplyr::lag()    masks stats::lag()\n"
     ]
    }
   ],
   "source": [
    "library(tidyverse)\n",
    "#source(\"~/src/JupyterRReuse/VisualizationUtils.R\")"
   ]
  },
  {
   "cell_type": "code",
   "execution_count": 2,
   "metadata": {
    "collapsed": false
   },
   "outputs": [
    {
     "name": "stdout",
     "output_type": "stream",
     "text": [
      "Observations: 400\n",
      "Variables: 5\n",
      "$ User.ID         <int> 15624510, 15810944, 15668575, 15603246, 15804002, 1...\n",
      "$ Gender          <fctr> Male, Male, Female, Female, Male, Male, Female, Fe...\n",
      "$ Age             <int> 19, 35, 26, 27, 19, 27, 27, 32, 25, 35, 26, 26, 20,...\n",
      "$ EstimatedSalary <int> 19000, 20000, 43000, 57000, 76000, 58000, 84000, 15...\n",
      "$ Purchased       <int> 0, 0, 0, 0, 0, 0, 0, 1, 0, 0, 0, 0, 0, 0, 0, 0, 1, ...\n"
     ]
    }
   ],
   "source": [
    "dataset <- read.csv(\"data/Logistic_Regression/Social_Network_Ads.csv\")\n",
    "glimpse(dataset)"
   ]
  },
  {
   "cell_type": "code",
   "execution_count": 3,
   "metadata": {
    "collapsed": false
   },
   "outputs": [
    {
     "data": {
      "text/plain": [
       "\n",
       "  0   1 \n",
       "257 143 "
      ]
     },
     "metadata": {},
     "output_type": "display_data"
    }
   ],
   "source": [
    "table(dataset$Purchased)"
   ]
  },
  {
   "cell_type": "code",
   "execution_count": 4,
   "metadata": {
    "collapsed": false
   },
   "outputs": [
    {
     "data": {},
     "metadata": {},
     "output_type": "display_data"
    },
    {
     "data": {
      "image/png": "[encoded data removed]",
      "text/plain": [
       "plot without title"
      ]
     },
     "metadata": {},
     "output_type": "display_data"
    }
   ],
   "source": [
    "# vu$pltsize(5, 5)\n",
    "ggplot(dataset, aes(EstimatedSalary)) + geom_histogram(binwidth = 10000)"
   ]
  },
  {
   "cell_type": "markdown",
   "metadata": {},
   "source": [
    "## Prepare training set"
   ]
  },
  {
   "cell_type": "code",
   "execution_count": 5,
   "metadata": {
    "collapsed": false
   },
   "outputs": [
    {
     "name": "stderr",
     "output_type": "stream",
     "text": [
      "Warning message:\n",
      "\"package 'caTools' was built under R version 3.4.4\""
     ]
    },
    {
     "data": {
      "text/html": [
       "<table>\n",
       "<thead><tr><th></th><th scope=col>Age</th><th scope=col>EstimatedSalary</th><th scope=col>Purchased</th></tr></thead>\n",
       "<tbody>\n",
       "\t<tr><th scope=row>2</th><td>-0.3041906</td><td>-1.5135434</td><td>0         </td></tr>\n",
       "\t<tr><th scope=row>4</th><td>-1.0599437</td><td>-0.3245603</td><td>0         </td></tr>\n",
       "\t<tr><th scope=row>5</th><td>-1.8156969</td><td> 0.2859986</td><td>0         </td></tr>\n",
       "\t<tr><th scope=row>9</th><td>-1.2488820</td><td>-1.0957926</td><td>0         </td></tr>\n",
       "\t<tr><th scope=row>12</th><td>-1.1544129</td><td>-0.4852337</td><td>0         </td></tr>\n",
       "\t<tr><th scope=row>18</th><td> 0.6405008</td><td>-1.3207353</td><td>1         </td></tr>\n",
       "</tbody>\n",
       "</table>\n"
      ],
      "text/latex": [
       "\\begin{tabular}{r|lll}\n",
       "  & Age & EstimatedSalary & Purchased\\\\\n",
       "\\hline\n",
       "\t2 & -0.3041906 & -1.5135434 & 0         \\\\\n",
       "\t4 & -1.0599437 & -0.3245603 & 0         \\\\\n",
       "\t5 & -1.8156969 &  0.2859986 & 0         \\\\\n",
       "\t9 & -1.2488820 & -1.0957926 & 0         \\\\\n",
       "\t12 & -1.1544129 & -0.4852337 & 0         \\\\\n",
       "\t18 &  0.6405008 & -1.3207353 & 1         \\\\\n",
       "\\end{tabular}\n"
      ],
      "text/markdown": [
       "\n",
       "| <!--/--> | Age | EstimatedSalary | Purchased | \n",
       "|---|---|---|---|---|---|\n",
       "| 2 | -0.3041906 | -1.5135434 | 0          | \n",
       "| 4 | -1.0599437 | -0.3245603 | 0          | \n",
       "| 5 | -1.8156969 |  0.2859986 | 0          | \n",
       "| 9 | -1.2488820 | -1.0957926 | 0          | \n",
       "| 12 | -1.1544129 | -0.4852337 | 0          | \n",
       "| 18 |  0.6405008 | -1.3207353 | 1          | \n",
       "\n",
       "\n"
      ],
      "text/plain": [
       "   Age        EstimatedSalary Purchased\n",
       "2  -0.3041906 -1.5135434      0        \n",
       "4  -1.0599437 -0.3245603      0        \n",
       "5  -1.8156969  0.2859986      0        \n",
       "9  -1.2488820 -1.0957926      0        \n",
       "12 -1.1544129 -0.4852337      0        \n",
       "18  0.6405008 -1.3207353      1        "
      ]
     },
     "metadata": {},
     "output_type": "display_data"
    }
   ],
   "source": [
    "library(caTools)\n",
    "set.seed(123)\n",
    "split <- sample.split(dataset$Purchased, SplitRatio = 0.75)\n",
    "training_set <- subset(dataset[, 3:5], split==T)\n",
    "test_set <- subset(dataset[, 3:5], split==F)\n",
    "\n",
    "# Feature scaling\n",
    "training_set[, 1:2] <- scale(training_set[, 1:2])\n",
    "test_set[, 1:2] <- scale(test_set[, 1:2])\n",
    "\n",
    "head(test_set)"
   ]
  },
  {
   "cell_type": "markdown",
   "metadata": {},
   "source": [
    "## Fit logistic regression\n",
    "\n",
    "Generalized linear models (which logistic model is).\n"
   ]
  },
  {
   "cell_type": "code",
   "execution_count": 6,
   "metadata": {
    "collapsed": false
   },
   "outputs": [
    {
     "data": {
      "text/plain": [
       "\n",
       "Call:\n",
       "glm(formula = Purchased ~ ., family = binomial, data = training_set)\n",
       "\n",
       "Deviance Residuals: \n",
       "    Min       1Q   Median       3Q      Max  \n",
       "-3.0753  -0.5235  -0.1161   0.3224   2.3977  \n",
       "\n",
       "Coefficients:\n",
       "                Estimate Std. Error z value Pr(>|z|)    \n",
       "(Intercept)      -1.1923     0.2018  -5.908 3.47e-09 ***\n",
       "Age               2.6324     0.3461   7.606 2.83e-14 ***\n",
       "EstimatedSalary   1.3947     0.2326   5.996 2.03e-09 ***\n",
       "---\n",
       "Signif. codes:  0 '***' 0.001 '**' 0.01 '*' 0.05 '.' 0.1 ' ' 1\n",
       "\n",
       "(Dispersion parameter for binomial family taken to be 1)\n",
       "\n",
       "    Null deviance: 390.89  on 299  degrees of freedom\n",
       "Residual deviance: 199.78  on 297  degrees of freedom\n",
       "AIC: 205.78\n",
       "\n",
       "Number of Fisher Scoring iterations: 6\n"
      ]
     },
     "metadata": {},
     "output_type": "display_data"
    }
   ],
   "source": [
    "classifier <- glm(formula = Purchased ~ ., \n",
    "                  family=binomial, \n",
    "                  data=training_set)\n",
    "summary(classifier)"
   ]
  },
  {
   "cell_type": "markdown",
   "metadata": {},
   "source": [
    "## Predicting"
   ]
  },
  {
   "cell_type": "code",
   "execution_count": 7,
   "metadata": {
    "collapsed": false
   },
   "outputs": [
    {
     "data": {
      "text/html": [
       "<table>\n",
       "<thead><tr><th></th><th scope=col>Age</th><th scope=col>EstimatedSalary</th><th scope=col>Purchased</th><th scope=col>prob_pred</th><th scope=col>y_pred</th></tr></thead>\n",
       "<tbody>\n",
       "\t<tr><th scope=row>2</th><td>-0.3041906 </td><td>-1.5135434 </td><td>0          </td><td>0.016239538</td><td>0          </td></tr>\n",
       "\t<tr><th scope=row>4</th><td>-1.0599437 </td><td>-0.3245603 </td><td>0          </td><td>0.011714838</td><td>0          </td></tr>\n",
       "\t<tr><th scope=row>5</th><td>-1.8156969 </td><td> 0.2859986 </td><td>0          </td><td>0.003784646</td><td>0          </td></tr>\n",
       "\t<tr><th scope=row>9</th><td>-1.2488820 </td><td>-1.0957926 </td><td>0          </td><td>0.002452746</td><td>0          </td></tr>\n",
       "\t<tr><th scope=row>12</th><td>-1.1544129 </td><td>-0.4852337 </td><td>0          </td><td>0.007333944</td><td>0          </td></tr>\n",
       "\t<tr><th scope=row>18</th><td> 0.6405008 </td><td>-1.3207353 </td><td>1          </td><td>0.206157658</td><td>0          </td></tr>\n",
       "\t<tr><th scope=row>19</th><td> 0.7349699 </td><td>-1.2564660 </td><td>1          </td><td>0.266993507</td><td>0          </td></tr>\n",
       "\t<tr><th scope=row>20</th><td> 0.9239082 </td><td>-1.2243313 </td><td>1          </td><td>0.385147569</td><td>0          </td></tr>\n",
       "\t<tr><th scope=row>22</th><td> 0.8294390 </td><td>-0.5816377 </td><td>1          </td><td>0.544857878</td><td>1          </td></tr>\n",
       "\t<tr><th scope=row>29</th><td>-0.8710055 </td><td>-0.7744458 </td><td>0          </td><td>0.010300564</td><td>0          </td></tr>\n",
       "</tbody>\n",
       "</table>\n"
      ],
      "text/latex": [
       "\\begin{tabular}{r|lllll}\n",
       "  & Age & EstimatedSalary & Purchased & prob\\_pred & y\\_pred\\\\\n",
       "\\hline\n",
       "\t2 & -0.3041906  & -1.5135434  & 0           & 0.016239538 & 0          \\\\\n",
       "\t4 & -1.0599437  & -0.3245603  & 0           & 0.011714838 & 0          \\\\\n",
       "\t5 & -1.8156969  &  0.2859986  & 0           & 0.003784646 & 0          \\\\\n",
       "\t9 & -1.2488820  & -1.0957926  & 0           & 0.002452746 & 0          \\\\\n",
       "\t12 & -1.1544129  & -0.4852337  & 0           & 0.007333944 & 0          \\\\\n",
       "\t18 &  0.6405008  & -1.3207353  & 1           & 0.206157658 & 0          \\\\\n",
       "\t19 &  0.7349699  & -1.2564660  & 1           & 0.266993507 & 0          \\\\\n",
       "\t20 &  0.9239082  & -1.2243313  & 1           & 0.385147569 & 0          \\\\\n",
       "\t22 &  0.8294390  & -0.5816377  & 1           & 0.544857878 & 1          \\\\\n",
       "\t29 & -0.8710055  & -0.7744458  & 0           & 0.010300564 & 0          \\\\\n",
       "\\end{tabular}\n"
      ],
      "text/markdown": [
       "\n",
       "| <!--/--> | Age | EstimatedSalary | Purchased | prob_pred | y_pred | \n",
       "|---|---|---|---|---|---|---|---|---|---|\n",
       "| 2 | -0.3041906  | -1.5135434  | 0           | 0.016239538 | 0           | \n",
       "| 4 | -1.0599437  | -0.3245603  | 0           | 0.011714838 | 0           | \n",
       "| 5 | -1.8156969  |  0.2859986  | 0           | 0.003784646 | 0           | \n",
       "| 9 | -1.2488820  | -1.0957926  | 0           | 0.002452746 | 0           | \n",
       "| 12 | -1.1544129  | -0.4852337  | 0           | 0.007333944 | 0           | \n",
       "| 18 |  0.6405008  | -1.3207353  | 1           | 0.206157658 | 0           | \n",
       "| 19 |  0.7349699  | -1.2564660  | 1           | 0.266993507 | 0           | \n",
       "| 20 |  0.9239082  | -1.2243313  | 1           | 0.385147569 | 0           | \n",
       "| 22 |  0.8294390  | -0.5816377  | 1           | 0.544857878 | 1           | \n",
       "| 29 | -0.8710055  | -0.7744458  | 0           | 0.010300564 | 0           | \n",
       "\n",
       "\n"
      ],
      "text/plain": [
       "   Age        EstimatedSalary Purchased prob_pred   y_pred\n",
       "2  -0.3041906 -1.5135434      0         0.016239538 0     \n",
       "4  -1.0599437 -0.3245603      0         0.011714838 0     \n",
       "5  -1.8156969  0.2859986      0         0.003784646 0     \n",
       "9  -1.2488820 -1.0957926      0         0.002452746 0     \n",
       "12 -1.1544129 -0.4852337      0         0.007333944 0     \n",
       "18  0.6405008 -1.3207353      1         0.206157658 0     \n",
       "19  0.7349699 -1.2564660      1         0.266993507 0     \n",
       "20  0.9239082 -1.2243313      1         0.385147569 0     \n",
       "22  0.8294390 -0.5816377      1         0.544857878 1     \n",
       "29 -0.8710055 -0.7744458      0         0.010300564 0     "
      ]
     },
     "metadata": {},
     "output_type": "display_data"
    }
   ],
   "source": [
    "prob_pred <- predict(classifier, type='response', newdata=test_set[-3])\n",
    "y_pred <- ifelse(prob_pred > 0.5, 1, 0)\n",
    "head(cbind(test_set, prob_pred, y_pred), 10)"
   ]
  },
  {
   "cell_type": "markdown",
   "metadata": {},
   "source": [
    "## Making confusion matrix\n",
    "\n",
    "Shows how predicted, and actual outcome."
   ]
  },
  {
   "cell_type": "code",
   "execution_count": 8,
   "metadata": {
    "collapsed": false
   },
   "outputs": [
    {
     "data": {
      "text/plain": [
       "   y_pred\n",
       "     0  1\n",
       "  0 57  7\n",
       "  1 10 26"
      ]
     },
     "metadata": {},
     "output_type": "display_data"
    }
   ],
   "source": [
    "cm <- table(test_set[, 3], y_pred)\n",
    "cm"
   ]
  },
  {
   "cell_type": "code",
   "execution_count": 9,
   "metadata": {
    "collapsed": false
   },
   "outputs": [
    {
     "name": "stderr",
     "output_type": "stream",
     "text": [
      "Warning message:\n",
      "\"package 'ElemStatLearn' was built under R version 3.4.4\""
     ]
    },
    {
     "data": {
      "text/html": [
       "<table>\n",
       "<thead><tr><th scope=col>Age</th><th scope=col>EstimatedSalary</th></tr></thead>\n",
       "<tbody>\n",
       "\t<tr><td>-2.861155</td><td>-2.587502</td></tr>\n",
       "\t<tr><td>-2.851155</td><td>-2.587502</td></tr>\n",
       "\t<tr><td>-2.841155</td><td>-2.587502</td></tr>\n",
       "\t<tr><td>-2.831155</td><td>-2.587502</td></tr>\n",
       "\t<tr><td>-2.821155</td><td>-2.587502</td></tr>\n",
       "\t<tr><td>-2.811155</td><td>-2.587502</td></tr>\n",
       "</tbody>\n",
       "</table>\n"
      ],
      "text/latex": [
       "\\begin{tabular}{r|ll}\n",
       " Age & EstimatedSalary\\\\\n",
       "\\hline\n",
       "\t -2.861155 & -2.587502\\\\\n",
       "\t -2.851155 & -2.587502\\\\\n",
       "\t -2.841155 & -2.587502\\\\\n",
       "\t -2.831155 & -2.587502\\\\\n",
       "\t -2.821155 & -2.587502\\\\\n",
       "\t -2.811155 & -2.587502\\\\\n",
       "\\end{tabular}\n"
      ],
      "text/markdown": [
       "\n",
       "Age | EstimatedSalary | \n",
       "|---|---|---|---|---|---|\n",
       "| -2.861155 | -2.587502 | \n",
       "| -2.851155 | -2.587502 | \n",
       "| -2.841155 | -2.587502 | \n",
       "| -2.831155 | -2.587502 | \n",
       "| -2.821155 | -2.587502 | \n",
       "| -2.811155 | -2.587502 | \n",
       "\n",
       "\n"
      ],
      "text/plain": [
       "  Age       EstimatedSalary\n",
       "1 -2.861155 -2.587502      \n",
       "2 -2.851155 -2.587502      \n",
       "3 -2.841155 -2.587502      \n",
       "4 -2.831155 -2.587502      \n",
       "5 -2.821155 -2.587502      \n",
       "6 -2.811155 -2.587502      "
      ]
     },
     "metadata": {},
     "output_type": "display_data"
    },
    {
     "data": {
      "image/png": "[encoded data removed]",
      "text/plain": [
       "Plot with title \"Logistic regression (training set)\""
      ]
     },
     "metadata": {},
     "output_type": "display_data"
    }
   ],
   "source": [
    "library(ElemStatLearn)\n",
    "set <- training_set\n",
    "X1 <- seq(min(set[, 1]) - 1, max(set[, 1]) + 1, by = 0.01)\n",
    "X2 <- seq(min(set[, 2]) - 1, max(set[, 2]) + 1, by = 0.01)\n",
    "grid_set <- expand.grid(X1, X2)\n",
    "colnames(grid_set) <- c('Age', 'EstimatedSalary')\n",
    "head(grid_set)\n",
    "prob_set <- predict(classifier, type='response', newdata=grid_set)\n",
    "y_grid <- ifelse(prob_set > 0.5, 1, 0)\n",
    "plot(set[, -3],\n",
    "    main='Logistic regression (training set)',\n",
    "    xlab='Age',\n",
    "    ylab='Estimated Salary',\n",
    "    xlim=range(X1),\n",
    "    ylim=range(X2))\n",
    "contour(X1, X2, matrix(as.numeric(y_grid), length(X1), length(X2)), add=TRUE)\n",
    "points(grid_set, pch='.', col=ifelse(y_grid==1, 'springgreen3', 'tomato'))\n",
    "points(set, pch=21, bg=ifelse(set[, 3] == 1, 'green4', 'red3'))"
   ]
  },
  {
   "cell_type": "code",
   "execution_count": 10,
   "metadata": {
    "collapsed": false
   },
   "outputs": [
    {
     "data": {
      "text/html": [
       "<table>\n",
       "<thead><tr><th scope=col>Age</th><th scope=col>EstimatedSalary</th></tr></thead>\n",
       "<tbody>\n",
       "\t<tr><td>-2.910166</td><td>-2.674217</td></tr>\n",
       "\t<tr><td>-2.900166</td><td>-2.674217</td></tr>\n",
       "\t<tr><td>-2.890166</td><td>-2.674217</td></tr>\n",
       "\t<tr><td>-2.880166</td><td>-2.674217</td></tr>\n",
       "\t<tr><td>-2.870166</td><td>-2.674217</td></tr>\n",
       "\t<tr><td>-2.860166</td><td>-2.674217</td></tr>\n",
       "</tbody>\n",
       "</table>\n"
      ],
      "text/latex": [
       "\\begin{tabular}{r|ll}\n",
       " Age & EstimatedSalary\\\\\n",
       "\\hline\n",
       "\t -2.910166 & -2.674217\\\\\n",
       "\t -2.900166 & -2.674217\\\\\n",
       "\t -2.890166 & -2.674217\\\\\n",
       "\t -2.880166 & -2.674217\\\\\n",
       "\t -2.870166 & -2.674217\\\\\n",
       "\t -2.860166 & -2.674217\\\\\n",
       "\\end{tabular}\n"
      ],
      "text/markdown": [
       "\n",
       "Age | EstimatedSalary | \n",
       "|---|---|---|---|---|---|\n",
       "| -2.910166 | -2.674217 | \n",
       "| -2.900166 | -2.674217 | \n",
       "| -2.890166 | -2.674217 | \n",
       "| -2.880166 | -2.674217 | \n",
       "| -2.870166 | -2.674217 | \n",
       "| -2.860166 | -2.674217 | \n",
       "\n",
       "\n"
      ],
      "text/plain": [
       "  Age       EstimatedSalary\n",
       "1 -2.910166 -2.674217      \n",
       "2 -2.900166 -2.674217      \n",
       "3 -2.890166 -2.674217      \n",
       "4 -2.880166 -2.674217      \n",
       "5 -2.870166 -2.674217      \n",
       "6 -2.860166 -2.674217      "
      ]
     },
     "metadata": {},
     "output_type": "display_data"
    },
    {
     "data": {
      "image/png": "[encoded data removed]",
      "text/plain": [
       "Plot with title \"Logistic regression (test set)\""
      ]
     },
     "metadata": {},
     "output_type": "display_data"
    }
   ],
   "source": [
    "set <- test_set\n",
    "X1 <- seq(min(set[, 1]) - 1, max(set[, 1]) + 1, by = 0.01)\n",
    "X2 <- seq(min(set[, 2]) - 1, max(set[, 2]) + 1, by = 0.01)\n",
    "grid_set <- expand.grid(X1, X2)\n",
    "colnames(grid_set) <- c('Age', 'EstimatedSalary')\n",
    "head(grid_set)\n",
    "prob_set <- predict(classifier, type='response', newdata=grid_set)\n",
    "y_grid <- ifelse(prob_set > 0.5, 1, 0)\n",
    "plot(set[, -3],\n",
    "    main='Logistic regression (test set)',\n",
    "    xlab='Age',\n",
    "    ylab='Estimated Salary',\n",
    "    xlim=range(X1),\n",
    "    ylim=range(X2))\n",
    "contour(X1, X2, matrix(as.numeric(y_grid), length(X1), length(X2)), add=TRUE)\n",
    "points(grid_set, pch='.', col=ifelse(y_grid==1, 'springgreen3', 'tomato'))\n",
    "points(set, pch=21, bg=ifelse(set[, 3] == 1, 'green4', 'red3'))"
   ]
  },
  {
   "cell_type": "markdown",
   "metadata": {},
   "source": [
    "# K nearest neighbors\n",
    "\n",
    "Clustering before:\n",
    "\n",
    "* How to handle dots not falling within a clear cluster?\n",
    "\n",
    "How to do it:\n",
    "\n",
    "* Step 1: Choose number of K neighbors\n",
    "* Step 2: Take the K nearest neighbors of the new datapoint\n",
    "* Step 3: Among the K neighbors, how many entries in each?\n",
    "* Step 4: Assign data point to category where you counted the most neighbors\n",
    "\n",
    "Distance measure: Starting out with euclidian distance. Count the closest neighbors. Go to the category with most neighbors."
   ]
  },
  {
   "cell_type": "markdown",
   "metadata": {},
   "source": [
    "## Exercise"
   ]
  },
  {
   "cell_type": "code",
   "execution_count": 11,
   "metadata": {
    "collapsed": true
   },
   "outputs": [],
   "source": [
    "library(class)"
   ]
  },
  {
   "cell_type": "code",
   "execution_count": 12,
   "metadata": {
    "collapsed": false
   },
   "outputs": [
    {
     "name": "stdout",
     "output_type": "stream",
     "text": [
      "Observations: 400\n",
      "Variables: 5\n",
      "$ User.ID         <int> 15624510, 15810944, 15668575, 15603246, 15804002, 1...\n",
      "$ Gender          <fctr> Male, Male, Female, Female, Male, Male, Female, Fe...\n",
      "$ Age             <int> 19, 35, 26, 27, 19, 27, 27, 32, 25, 35, 26, 26, 20,...\n",
      "$ EstimatedSalary <int> 19000, 20000, 43000, 57000, 76000, 58000, 84000, 15...\n",
      "$ Purchased       <int> 0, 0, 0, 0, 0, 0, 0, 1, 0, 0, 0, 0, 0, 0, 0, 0, 1, ...\n"
     ]
    }
   ],
   "source": [
    "glimpse(dataset)"
   ]
  },
  {
   "cell_type": "code",
   "execution_count": 13,
   "metadata": {
    "collapsed": false
   },
   "outputs": [
    {
     "name": "stdout",
     "output_type": "stream",
     "text": [
      "Observations: 300\n",
      "Variables: 3\n",
      "$ Age             <dbl> -1.7655475, -1.0962966, -1.0006894, -1.0006894, -0....\n",
      "$ EstimatedSalary <dbl> -1.47334137, -0.78837605, -0.36027273, 0.38177303, ...\n",
      "$ Purchased       <int> 0, 0, 0, 0, 1, 0, 0, 0, 0, 0, 0, 1, 1, 1, 1, 1, 1, ...\n",
      "Observations: 100\n",
      "Variables: 3\n",
      "$ Age             <dbl> -0.30419063, -1.05994374, -1.81569686, -1.24888202,...\n",
      "$ EstimatedSalary <dbl> -1.5135434, -0.3245603, 0.2859986, -1.0957926, -0.4...\n",
      "$ Purchased       <int> 0, 0, 0, 0, 0, 1, 1, 1, 1, 0, 1, 0, 0, 0, 0, 0, 0, ...\n"
     ]
    }
   ],
   "source": [
    "glimpse(training_set)\n",
    "glimpse(test_set)"
   ]
  },
  {
   "cell_type": "code",
   "execution_count": 14,
   "metadata": {
    "collapsed": false
   },
   "outputs": [
    {
     "data": {
      "text/html": [
       "<ol class=list-inline>\n",
       "\t<li>0</li>\n",
       "\t<li>0</li>\n",
       "\t<li>0</li>\n",
       "\t<li>0</li>\n",
       "\t<li>0</li>\n",
       "\t<li>1</li>\n",
       "\t<li>1</li>\n",
       "\t<li>1</li>\n",
       "\t<li>0</li>\n",
       "\t<li>0</li>\n",
       "\t<li>1</li>\n",
       "\t<li>0</li>\n",
       "\t<li>0</li>\n",
       "\t<li>0</li>\n",
       "\t<li>0</li>\n",
       "\t<li>0</li>\n",
       "\t<li>0</li>\n",
       "\t<li>0</li>\n",
       "\t<li>0</li>\n",
       "\t<li>0</li>\n",
       "\t<li>0</li>\n",
       "\t<li>0</li>\n",
       "\t<li>0</li>\n",
       "\t<li>1</li>\n",
       "\t<li>0</li>\n",
       "\t<li>1</li>\n",
       "\t<li>0</li>\n",
       "\t<li>0</li>\n",
       "\t<li>0</li>\n",
       "\t<li>1</li>\n",
       "\t<li>0</li>\n",
       "\t<li>0</li>\n",
       "\t<li>0</li>\n",
       "\t<li>0</li>\n",
       "\t<li>0</li>\n",
       "\t<li>0</li>\n",
       "\t<li>0</li>\n",
       "\t<li>0</li>\n",
       "\t<li>0</li>\n",
       "\t<li>0</li>\n",
       "\t<li>0</li>\n",
       "\t<li>0</li>\n",
       "\t<li>0</li>\n",
       "\t<li>0</li>\n",
       "\t<li>0</li>\n",
       "\t<li>0</li>\n",
       "\t<li>0</li>\n",
       "\t<li>0</li>\n",
       "\t<li>0</li>\n",
       "\t<li>0</li>\n",
       "\t<li>0</li>\n",
       "\t<li>0</li>\n",
       "\t<li>1</li>\n",
       "\t<li>1</li>\n",
       "\t<li>1</li>\n",
       "\t<li>0</li>\n",
       "\t<li>1</li>\n",
       "\t<li>0</li>\n",
       "\t<li>0</li>\n",
       "\t<li>1</li>\n",
       "\t<li>0</li>\n",
       "\t<li>0</li>\n",
       "\t<li>0</li>\n",
       "\t<li>1</li>\n",
       "\t<li>1</li>\n",
       "\t<li>0</li>\n",
       "\t<li>1</li>\n",
       "\t<li>1</li>\n",
       "\t<li>1</li>\n",
       "\t<li>1</li>\n",
       "\t<li>1</li>\n",
       "\t<li>1</li>\n",
       "\t<li>1</li>\n",
       "\t<li>0</li>\n",
       "\t<li>0</li>\n",
       "\t<li>0</li>\n",
       "\t<li>1</li>\n",
       "\t<li>0</li>\n",
       "\t<li>0</li>\n",
       "\t<li>1</li>\n",
       "\t<li>0</li>\n",
       "\t<li>1</li>\n",
       "\t<li>0</li>\n",
       "\t<li>1</li>\n",
       "\t<li>0</li>\n",
       "\t<li>1</li>\n",
       "\t<li>1</li>\n",
       "\t<li>0</li>\n",
       "\t<li>0</li>\n",
       "\t<li>1</li>\n",
       "\t<li>1</li>\n",
       "\t<li>0</li>\n",
       "\t<li>1</li>\n",
       "\t<li>0</li>\n",
       "\t<li>1</li>\n",
       "\t<li>1</li>\n",
       "\t<li>1</li>\n",
       "\t<li>1</li>\n",
       "\t<li>0</li>\n",
       "\t<li>1</li>\n",
       "</ol>\n"
      ],
      "text/latex": [
       "\\begin{enumerate*}\n",
       "\\item 0\n",
       "\\item 0\n",
       "\\item 0\n",
       "\\item 0\n",
       "\\item 0\n",
       "\\item 1\n",
       "\\item 1\n",
       "\\item 1\n",
       "\\item 0\n",
       "\\item 0\n",
       "\\item 1\n",
       "\\item 0\n",
       "\\item 0\n",
       "\\item 0\n",
       "\\item 0\n",
       "\\item 0\n",
       "\\item 0\n",
       "\\item 0\n",
       "\\item 0\n",
       "\\item 0\n",
       "\\item 0\n",
       "\\item 0\n",
       "\\item 0\n",
       "\\item 1\n",
       "\\item 0\n",
       "\\item 1\n",
       "\\item 0\n",
       "\\item 0\n",
       "\\item 0\n",
       "\\item 1\n",
       "\\item 0\n",
       "\\item 0\n",
       "\\item 0\n",
       "\\item 0\n",
       "\\item 0\n",
       "\\item 0\n",
       "\\item 0\n",
       "\\item 0\n",
       "\\item 0\n",
       "\\item 0\n",
       "\\item 0\n",
       "\\item 0\n",
       "\\item 0\n",
       "\\item 0\n",
       "\\item 0\n",
       "\\item 0\n",
       "\\item 0\n",
       "\\item 0\n",
       "\\item 0\n",
       "\\item 0\n",
       "\\item 0\n",
       "\\item 0\n",
       "\\item 1\n",
       "\\item 1\n",
       "\\item 1\n",
       "\\item 0\n",
       "\\item 1\n",
       "\\item 0\n",
       "\\item 0\n",
       "\\item 1\n",
       "\\item 0\n",
       "\\item 0\n",
       "\\item 0\n",
       "\\item 1\n",
       "\\item 1\n",
       "\\item 0\n",
       "\\item 1\n",
       "\\item 1\n",
       "\\item 1\n",
       "\\item 1\n",
       "\\item 1\n",
       "\\item 1\n",
       "\\item 1\n",
       "\\item 0\n",
       "\\item 0\n",
       "\\item 0\n",
       "\\item 1\n",
       "\\item 0\n",
       "\\item 0\n",
       "\\item 1\n",
       "\\item 0\n",
       "\\item 1\n",
       "\\item 0\n",
       "\\item 1\n",
       "\\item 0\n",
       "\\item 1\n",
       "\\item 1\n",
       "\\item 0\n",
       "\\item 0\n",
       "\\item 1\n",
       "\\item 1\n",
       "\\item 0\n",
       "\\item 1\n",
       "\\item 0\n",
       "\\item 1\n",
       "\\item 1\n",
       "\\item 1\n",
       "\\item 1\n",
       "\\item 0\n",
       "\\item 1\n",
       "\\end{enumerate*}\n"
      ],
      "text/markdown": [
       "1. 0\n",
       "2. 0\n",
       "3. 0\n",
       "4. 0\n",
       "5. 0\n",
       "6. 1\n",
       "7. 1\n",
       "8. 1\n",
       "9. 0\n",
       "10. 0\n",
       "11. 1\n",
       "12. 0\n",
       "13. 0\n",
       "14. 0\n",
       "15. 0\n",
       "16. 0\n",
       "17. 0\n",
       "18. 0\n",
       "19. 0\n",
       "20. 0\n",
       "21. 0\n",
       "22. 0\n",
       "23. 0\n",
       "24. 1\n",
       "25. 0\n",
       "26. 1\n",
       "27. 0\n",
       "28. 0\n",
       "29. 0\n",
       "30. 1\n",
       "31. 0\n",
       "32. 0\n",
       "33. 0\n",
       "34. 0\n",
       "35. 0\n",
       "36. 0\n",
       "37. 0\n",
       "38. 0\n",
       "39. 0\n",
       "40. 0\n",
       "41. 0\n",
       "42. 0\n",
       "43. 0\n",
       "44. 0\n",
       "45. 0\n",
       "46. 0\n",
       "47. 0\n",
       "48. 0\n",
       "49. 0\n",
       "50. 0\n",
       "51. 0\n",
       "52. 0\n",
       "53. 1\n",
       "54. 1\n",
       "55. 1\n",
       "56. 0\n",
       "57. 1\n",
       "58. 0\n",
       "59. 0\n",
       "60. 1\n",
       "61. 0\n",
       "62. 0\n",
       "63. 0\n",
       "64. 1\n",
       "65. 1\n",
       "66. 0\n",
       "67. 1\n",
       "68. 1\n",
       "69. 1\n",
       "70. 1\n",
       "71. 1\n",
       "72. 1\n",
       "73. 1\n",
       "74. 0\n",
       "75. 0\n",
       "76. 0\n",
       "77. 1\n",
       "78. 0\n",
       "79. 0\n",
       "80. 1\n",
       "81. 0\n",
       "82. 1\n",
       "83. 0\n",
       "84. 1\n",
       "85. 0\n",
       "86. 1\n",
       "87. 1\n",
       "88. 0\n",
       "89. 0\n",
       "90. 1\n",
       "91. 1\n",
       "92. 0\n",
       "93. 1\n",
       "94. 0\n",
       "95. 1\n",
       "96. 1\n",
       "97. 1\n",
       "98. 1\n",
       "99. 0\n",
       "100. 1\n",
       "\n",
       "\n"
      ],
      "text/plain": [
       "  [1] 0 0 0 0 0 1 1 1 0 0 1 0 0 0 0 0 0 0 0 0 0 0 0 1 0 1 0 0 0 1 0 0 0 0 0 0 0\n",
       " [38] 0 0 0 0 0 0 0 0 0 0 0 0 0 0 0 1 1 1 0 1 0 0 1 0 0 0 1 1 0 1 1 1 1 1 1 1 0\n",
       " [75] 0 0 1 0 0 1 0 1 0 1 0 1 1 0 0 1 1 0 1 0 1 1 1 1 0 1\n",
       "Levels: 0 1"
      ]
     },
     "metadata": {},
     "output_type": "display_data"
    },
    {
     "data": {
      "text/plain": [
       "   y_pred\n",
       "     0  1\n",
       "  0 59  5\n",
       "  1  6 30"
      ]
     },
     "metadata": {},
     "output_type": "display_data"
    }
   ],
   "source": [
    "y_pred = knn(train=training_set[, -3], \n",
    "             test=test_set[, -3], \n",
    "             cl=training_set[, 3],\n",
    "             k=5\n",
    ")\n",
    "y_pred\n",
    "\n",
    "table(test_set[, 3], y_pred)"
   ]
  },
  {
   "cell_type": "code",
   "execution_count": 15,
   "metadata": {
    "collapsed": false
   },
   "outputs": [
    {
     "data": {
      "text/html": [
       "<table>\n",
       "<thead><tr><th scope=col>Age</th><th scope=col>EstimatedSalary</th></tr></thead>\n",
       "<tbody>\n",
       "\t<tr><td>-2.910166</td><td>-2.674217</td></tr>\n",
       "\t<tr><td>-2.900166</td><td>-2.674217</td></tr>\n",
       "\t<tr><td>-2.890166</td><td>-2.674217</td></tr>\n",
       "\t<tr><td>-2.880166</td><td>-2.674217</td></tr>\n",
       "\t<tr><td>-2.870166</td><td>-2.674217</td></tr>\n",
       "\t<tr><td>-2.860166</td><td>-2.674217</td></tr>\n",
       "</tbody>\n",
       "</table>\n"
      ],
      "text/latex": [
       "\\begin{tabular}{r|ll}\n",
       " Age & EstimatedSalary\\\\\n",
       "\\hline\n",
       "\t -2.910166 & -2.674217\\\\\n",
       "\t -2.900166 & -2.674217\\\\\n",
       "\t -2.890166 & -2.674217\\\\\n",
       "\t -2.880166 & -2.674217\\\\\n",
       "\t -2.870166 & -2.674217\\\\\n",
       "\t -2.860166 & -2.674217\\\\\n",
       "\\end{tabular}\n"
      ],
      "text/markdown": [
       "\n",
       "Age | EstimatedSalary | \n",
       "|---|---|---|---|---|---|\n",
       "| -2.910166 | -2.674217 | \n",
       "| -2.900166 | -2.674217 | \n",
       "| -2.890166 | -2.674217 | \n",
       "| -2.880166 | -2.674217 | \n",
       "| -2.870166 | -2.674217 | \n",
       "| -2.860166 | -2.674217 | \n",
       "\n",
       "\n"
      ],
      "text/plain": [
       "  Age       EstimatedSalary\n",
       "1 -2.910166 -2.674217      \n",
       "2 -2.900166 -2.674217      \n",
       "3 -2.890166 -2.674217      \n",
       "4 -2.880166 -2.674217      \n",
       "5 -2.870166 -2.674217      \n",
       "6 -2.860166 -2.674217      "
      ]
     },
     "metadata": {},
     "output_type": "display_data"
    },
    {
     "name": "stderr",
     "output_type": "stream",
     "text": [
      "Warning message in matrix(as.numeric(y_grid), length(X1), length(X2)):\n",
      "\"data length [100] is not a sub-multiple or multiple of the number of rows [597]\""
     ]
    },
    {
     "data": {
      "image/png": "[encoded data removed]",
      "text/plain": [
       "Plot with title \"Logistic regression (test set)\""
      ]
     },
     "metadata": {},
     "output_type": "display_data"
    }
   ],
   "source": [
    "# Setup grid\n",
    "set <- test_set\n",
    "X1 <- seq(min(set[, 1]) - 1, max(set[, 1]) + 1, by = 0.01)\n",
    "X2 <- seq(min(set[, 2]) - 1, max(set[, 2]) + 1, by = 0.01)\n",
    "grid_set <- expand.grid(X1, X2)\n",
    "colnames(grid_set) <- c('Age', 'EstimatedSalary')\n",
    "head(grid_set)\n",
    "\n",
    "# Prepare classifier\n",
    "# prob_set <- predict(classifier, type='response', newdata=grid_set)\n",
    "y_grid <- knn(train=training_set[, -3], \n",
    "             test=test_set[, -3], \n",
    "             cl=training_set[, 3],\n",
    "             k=5\n",
    ")\n",
    "\n",
    "# Visualize\n",
    "plot(set[, -3],\n",
    "    main='Logistic regression (test set)',\n",
    "    xlab='Age',\n",
    "    ylab='Estimated Salary',\n",
    "    xlim=range(X1),\n",
    "    ylim=range(X2))\n",
    "contour(X1, X2, matrix(as.numeric(y_grid), length(X1), length(X2)), add=TRUE)\n",
    "points(grid_set, pch='.', col=ifelse(y_grid==1, 'springgreen3', 'tomato'))\n",
    "points(set, pch=21, bg=ifelse(set[, 3] == 1, 'green4', 'red3'))"
   ]
  }
 ],
 "metadata": {
  "anaconda-cloud": {},
  "kernelspec": {
   "display_name": "R",
   "language": "R",
   "name": "ir"
  },
  "language_info": {
   "codemirror_mode": "r",
   "file_extension": ".r",
   "mimetype": "text/x-r-source",
   "name": "R",
   "pygments_lexer": "r",
   "version": "3.4.3"
  }
 },
 "nbformat": 4,
 "nbformat_minor": 2
}
