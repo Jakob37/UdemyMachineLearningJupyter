{
 "cells": [
  {
   "cell_type": "markdown",
   "metadata": {},
   "source": [
    "# Intuition\n",
    "\n",
    "Builds on formula: `y = b_0 + b_1 * x_1`\n",
    "\n",
    "* Dependent variable: y\n",
    "* Independent variable: x_1\n",
    "* Coefficient b_1: How does unit change in x influence unit change in y\n",
    "\n",
    "A regression attempts putting the best fitting line through the scatter data.\n",
    "\n",
    "* b_0 - The cut. If zero years experience - what salary?\n",
    "* b_1 - The rate of increase."
   ]
  },
  {
   "cell_type": "markdown",
   "metadata": {},
   "source": [
    "# How to find the best trend line?\n",
    "\n",
    "Notation:\n",
    "\n",
    "* y_i - Individual datapoint, observed in the wild\n",
    "* y^_i - Predicted position for the datapoint, where it would have ended up based on prediction, the modelled outcome\n",
    "\n",
    "Getting best fit: Find minimum sum of squares"
   ]
  },
  {
   "cell_type": "markdown",
   "metadata": {},
   "source": [
    "# Setup the dataset\n",
    "\n",
    "* Independent variable: Years of experience\n",
    "* Salary: Dependent\n",
    "\n",
    "We want to predict salary based  on years of experience."
   ]
  },
  {
   "cell_type": "code",
   "execution_count": 4,
   "metadata": {
    "collapsed": true
   },
   "outputs": [],
   "source": [
    "library(caTools)\n",
    "set.seed(123)"
   ]
  },
  {
   "cell_type": "code",
   "execution_count": 11,
   "metadata": {},
   "outputs": [
    {
     "data": {
      "text/html": [
       "<ol class=list-inline>\n",
       "\t<li>30</li>\n",
       "\t<li>2</li>\n",
       "</ol>\n"
      ],
      "text/latex": [
       "\\begin{enumerate*}\n",
       "\\item 30\n",
       "\\item 2\n",
       "\\end{enumerate*}\n"
      ],
      "text/markdown": [
       "1. 30\n",
       "2. 2\n",
       "\n",
       "\n"
      ],
      "text/plain": [
       "[1] 30  2"
      ]
     },
     "metadata": {},
     "output_type": "display_data"
    },
    {
     "data": {
      "text/html": [
       "<table>\n",
       "<thead><tr><th scope=col>YearsExperience</th><th scope=col>Salary</th></tr></thead>\n",
       "<tbody>\n",
       "\t<tr><td>1.1  </td><td>39343</td></tr>\n",
       "\t<tr><td>1.3  </td><td>46205</td></tr>\n",
       "\t<tr><td>1.5  </td><td>37731</td></tr>\n",
       "\t<tr><td>2.0  </td><td>43525</td></tr>\n",
       "\t<tr><td>2.2  </td><td>39891</td></tr>\n",
       "\t<tr><td>2.9  </td><td>56642</td></tr>\n",
       "</tbody>\n",
       "</table>\n"
      ],
      "text/latex": [
       "\\begin{tabular}{r|ll}\n",
       " YearsExperience & Salary\\\\\n",
       "\\hline\n",
       "\t 1.1   & 39343\\\\\n",
       "\t 1.3   & 46205\\\\\n",
       "\t 1.5   & 37731\\\\\n",
       "\t 2.0   & 43525\\\\\n",
       "\t 2.2   & 39891\\\\\n",
       "\t 2.9   & 56642\\\\\n",
       "\\end{tabular}\n"
      ],
      "text/markdown": [
       "\n",
       "YearsExperience | Salary | \n",
       "|---|---|---|---|---|---|\n",
       "| 1.1   | 39343 | \n",
       "| 1.3   | 46205 | \n",
       "| 1.5   | 37731 | \n",
       "| 2.0   | 43525 | \n",
       "| 2.2   | 39891 | \n",
       "| 2.9   | 56642 | \n",
       "\n",
       "\n"
      ],
      "text/plain": [
       "  YearsExperience Salary\n",
       "1 1.1             39343 \n",
       "2 1.3             46205 \n",
       "3 1.5             37731 \n",
       "4 2.0             43525 \n",
       "5 2.2             39891 \n",
       "6 2.9             56642 "
      ]
     },
     "metadata": {},
     "output_type": "display_data"
    },
    {
     "data": {
      "text/html": [
       "<ol class=list-inline>\n",
       "\t<li>20</li>\n",
       "\t<li>2</li>\n",
       "</ol>\n"
      ],
      "text/latex": [
       "\\begin{enumerate*}\n",
       "\\item 20\n",
       "\\item 2\n",
       "\\end{enumerate*}\n"
      ],
      "text/markdown": [
       "1. 20\n",
       "2. 2\n",
       "\n",
       "\n"
      ],
      "text/plain": [
       "[1] 20  2"
      ]
     },
     "metadata": {},
     "output_type": "display_data"
    },
    {
     "data": {
      "text/html": [
       "<ol class=list-inline>\n",
       "\t<li>10</li>\n",
       "\t<li>2</li>\n",
       "</ol>\n"
      ],
      "text/latex": [
       "\\begin{enumerate*}\n",
       "\\item 10\n",
       "\\item 2\n",
       "\\end{enumerate*}\n"
      ],
      "text/markdown": [
       "1. 10\n",
       "2. 2\n",
       "\n",
       "\n"
      ],
      "text/plain": [
       "[1] 10  2"
      ]
     },
     "metadata": {},
     "output_type": "display_data"
    }
   ],
   "source": [
    "fp <- \"../machine_learning_template_folder/Part 2 - Regression/Section 4 - Simple Linear Regression/Simple_Linear_Regression/Simple_Linear_Regression/Salary_Data.csv\"\n",
    "df <- read.csv(fp)\n",
    "dim(df)\n",
    "head(df)\n",
    "\n",
    "split <- sample.split(df$Salary, SplitRatio=2/3)\n",
    "training_set <- subset(df, split == TRUE)\n",
    "test_set <- subset(df, split == FALSE)\n",
    "\n",
    "dim(training_set)\n",
    "dim(test_set)"
   ]
  },
  {
   "cell_type": "markdown",
   "metadata": {},
   "source": [
    "# Build the linear regression model\n",
    "\n",
    "Model setup: `Predicted ~ Predictor`\n",
    "\n",
    "We see high significance for correlation."
   ]
  },
  {
   "cell_type": "code",
   "execution_count": 14,
   "metadata": {},
   "outputs": [
    {
     "data": {
      "text/plain": [
       "\n",
       "Call:\n",
       "lm(formula = Salary ~ YearsExperience, data = training_set)\n",
       "\n",
       "Residuals:\n",
       "    Min      1Q  Median      3Q     Max \n",
       "-7590.1 -3957.9  -458.7  3129.7 11934.2 \n",
       "\n",
       "Coefficients:\n",
       "                Estimate Std. Error t value Pr(>|t|)    \n",
       "(Intercept)      26094.3     2857.1   9.133 3.54e-08 ***\n",
       "YearsExperience   9318.6      497.7  18.725 2.99e-13 ***\n",
       "---\n",
       "Signif. codes:  0 ‘***’ 0.001 ‘**’ 0.01 ‘*’ 0.05 ‘.’ 0.1 ‘ ’ 1\n",
       "\n",
       "Residual standard error: 5803 on 18 degrees of freedom\n",
       "Multiple R-squared:  0.9512,\tAdjusted R-squared:  0.9485 \n",
       "F-statistic: 350.6 on 1 and 18 DF,  p-value: 2.994e-13\n"
      ]
     },
     "metadata": {},
     "output_type": "display_data"
    }
   ],
   "source": [
    "regressor <- lm(formula=Salary~YearsExperience, data=training_set)\n",
    "summary(regressor)"
   ]
  },
  {
   "cell_type": "markdown",
   "metadata": {},
   "source": [
    "# Prediction"
   ]
  },
  {
   "cell_type": "code",
   "execution_count": 17,
   "metadata": {},
   "outputs": [
    {
     "data": {
      "text/html": [
       "<dl class=dl-horizontal>\n",
       "\t<dt>5</dt>\n",
       "\t\t<dd>46595.1537963675</dd>\n",
       "\t<dt>7</dt>\n",
       "\t\t<dd>54050.0275400745</dd>\n",
       "\t<dt>8</dt>\n",
       "\t\t<dd>55913.7459760013</dd>\n",
       "\t<dt>9</dt>\n",
       "\t\t<dd>55913.7459760013</dd>\n",
       "\t<dt>11</dt>\n",
       "\t\t<dd>62436.760501745</dd>\n",
       "\t<dt>13</dt>\n",
       "\t\t<dd>63368.6197197083</dd>\n",
       "\t<dt>24</dt>\n",
       "\t\t<dd>102506.70687417</dd>\n",
       "\t<dt>27</dt>\n",
       "\t\t<dd>114620.876707694</dd>\n",
       "\t<dt>28</dt>\n",
       "\t\t<dd>115552.735925658</dd>\n",
       "\t<dt>29</dt>\n",
       "\t\t<dd>122075.750451401</dd>\n",
       "</dl>\n"
      ],
      "text/latex": [
       "\\begin{description*}\n",
       "\\item[5] 46595.1537963675\n",
       "\\item[7] 54050.0275400745\n",
       "\\item[8] 55913.7459760013\n",
       "\\item[9] 55913.7459760013\n",
       "\\item[11] 62436.760501745\n",
       "\\item[13] 63368.6197197083\n",
       "\\item[24] 102506.70687417\n",
       "\\item[27] 114620.876707694\n",
       "\\item[28] 115552.735925658\n",
       "\\item[29] 122075.750451401\n",
       "\\end{description*}\n"
      ],
      "text/markdown": [
       "5\n",
       ":   46595.15379636757\n",
       ":   54050.02754007458\n",
       ":   55913.74597600139\n",
       ":   55913.745976001311\n",
       ":   62436.76050174513\n",
       ":   63368.619719708324\n",
       ":   102506.7068741727\n",
       ":   114620.87670769428\n",
       ":   115552.73592565829\n",
       ":   122075.750451401\n",
       "\n"
      ],
      "text/plain": [
       "        5         7         8         9        11        13        24        27 \n",
       " 46595.15  54050.03  55913.75  55913.75  62436.76  63368.62 102506.71 114620.88 \n",
       "       28        29 \n",
       "115552.74 122075.75 "
      ]
     },
     "metadata": {},
     "output_type": "display_data"
    }
   ],
   "source": [
    "y_pred <- predict(regressor, newdata=test_set)\n",
    "y_pred"
   ]
  },
  {
   "cell_type": "code",
   "execution_count": 18,
   "metadata": {},
   "outputs": [
    {
     "data": {
      "text/html": [
       "<table>\n",
       "<thead><tr><th></th><th scope=col>YearsExperience</th><th scope=col>Salary</th></tr></thead>\n",
       "<tbody>\n",
       "\t<tr><th scope=row>5</th><td>2.2  </td><td>39891</td></tr>\n",
       "\t<tr><th scope=row>7</th><td>3.0  </td><td>60150</td></tr>\n",
       "\t<tr><th scope=row>8</th><td>3.2  </td><td>54445</td></tr>\n",
       "\t<tr><th scope=row>9</th><td>3.2  </td><td>64445</td></tr>\n",
       "\t<tr><th scope=row>11</th><td>3.9  </td><td>63218</td></tr>\n",
       "\t<tr><th scope=row>13</th><td>4.0  </td><td>56957</td></tr>\n",
       "</tbody>\n",
       "</table>\n"
      ],
      "text/latex": [
       "\\begin{tabular}{r|ll}\n",
       "  & YearsExperience & Salary\\\\\n",
       "\\hline\n",
       "\t5 & 2.2   & 39891\\\\\n",
       "\t7 & 3.0   & 60150\\\\\n",
       "\t8 & 3.2   & 54445\\\\\n",
       "\t9 & 3.2   & 64445\\\\\n",
       "\t11 & 3.9   & 63218\\\\\n",
       "\t13 & 4.0   & 56957\\\\\n",
       "\\end{tabular}\n"
      ],
      "text/markdown": [
       "\n",
       "| <!--/--> | YearsExperience | Salary | \n",
       "|---|---|---|---|---|---|\n",
       "| 5 | 2.2   | 39891 | \n",
       "| 7 | 3.0   | 60150 | \n",
       "| 8 | 3.2   | 54445 | \n",
       "| 9 | 3.2   | 64445 | \n",
       "| 11 | 3.9   | 63218 | \n",
       "| 13 | 4.0   | 56957 | \n",
       "\n",
       "\n"
      ],
      "text/plain": [
       "   YearsExperience Salary\n",
       "5  2.2             39891 \n",
       "7  3.0             60150 \n",
       "8  3.2             54445 \n",
       "9  3.2             64445 \n",
       "11 3.9             63218 \n",
       "13 4.0             56957 "
      ]
     },
     "metadata": {},
     "output_type": "display_data"
    }
   ],
   "source": [
    "head(test_set)"
   ]
  },
  {
   "cell_type": "markdown",
   "metadata": {},
   "source": [
    "# Visualize"
   ]
  },
  {
   "cell_type": "markdown",
   "metadata": {},
   "source": [
    "We visualize:\n",
    "\n",
    "* Red dots are training points, datapoints used for prediction\n",
    "* Blue line is predicted line based on data from training set"
   ]
  },
  {
   "cell_type": "code",
   "execution_count": 20,
   "metadata": {
    "collapsed": true
   },
   "outputs": [],
   "source": [
    "library(ggplot2)"
   ]
  },
  {
   "cell_type": "markdown",
   "metadata": {},
   "source": [
    "## Visualize the training set"
   ]
  },
  {
   "cell_type": "code",
   "execution_count": 28,
   "metadata": {},
   "outputs": [
    {
     "data": {},
     "metadata": {},
     "output_type": "display_data"
    },
    {
     "data": {
      "image/png": "[encoded data removed]",
      "text/plain": [
       "plot without title"
      ]
     },
     "metadata": {},
     "output_type": "display_data"
    }
   ],
   "source": [
    "ggplot() + \n",
    "    geom_point(\n",
    "        aes(x=training_set$YearsExperience, \n",
    "            y=training_set$Salary),\n",
    "            color='red') +\n",
    "    geom_point(\n",
    "        aes(x=test_set$YearsExperience, \n",
    "            y=test_set$Salary),\n",
    "            color='green') +\n",
    "    geom_line(aes(x=training_set$YearsExperience,\n",
    "                  y=predict(regressor, newdata=training_set)),\n",
    "              color='blue') +\n",
    "    ggtitle('Salary vs Experience (training set and test set)') +\n",
    "    xlab('Years of experience') +\n",
    "    ylab('Salary')"
   ]
  }
 ],
 "metadata": {
  "kernelspec": {
   "display_name": "R",
   "language": "R",
   "name": "ir"
  },
  "language_info": {
   "codemirror_mode": "r",
   "file_extension": ".r",
   "mimetype": "text/x-r-source",
   "name": "R",
   "pygments_lexer": "r",
   "version": "3.2.3"
  }
 },
 "nbformat": 4,
 "nbformat_minor": 2
}
