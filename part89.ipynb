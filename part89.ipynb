{
 "cells": [
  {
   "cell_type": "markdown",
   "metadata": {},
   "source": [
    "# R squared intuition\n",
    "\n",
    "R squared - we sum of squared sums distances to regression line - SSres.\n",
    "\n",
    "R^2 = 1 - SSres / SStot\n",
    "\n",
    "SStot the distance to a simple horizontal line.\n",
    "\n",
    "How good is our line compared to a simple average?"
   ]
  },
  {
   "cell_type": "markdown",
   "metadata": {},
   "source": [
    "# Adjusted R^2\n",
    "\n",
    "R^2 - greater is better. We want to get it close to one.\n",
    "\n",
    "But what happens if we just pile up complexity in our model? R^2 will never decrease.\n",
    "\n",
    "What it does is adjusting for number of regressions."
   ]
  },
  {
   "cell_type": "markdown",
   "metadata": {},
   "source": [
    "# Evaluating model performance\n",
    "\n",
    "How to know whether we should have kept a particular variable?\n",
    "\n",
    "Follow rules, but trace for instance adjusted R squared. Is it growing?"
   ]
  },
  {
   "cell_type": "markdown",
   "metadata": {},
   "source": [
    "# Interpreting linear regression coefficients\n",
    "\n",
    "If sign is positive - then we have a positive correlation. Magnitude is tricky here though as they tightly depend on scale of variables."
   ]
  },
  {
   "cell_type": "markdown",
   "metadata": {},
   "source": [
    "# Wrap\n",
    "\n",
    "## Pros and cons with each model\n",
    "\n",
    "* Linear regression\n",
    "  * Works on any size and gives information about relevance of features, but relies on linear regression assumptions\n",
    "* Polynomial regression\n",
    "  * Works on any size, works well for non linear\n",
    "  * Need right polynomial degree\n",
    "* SVR\n",
    "  * Easily adaptable and works well on non linear, and is not biased by outliers\n",
    "  * Compulsory scaling, less known, difficult to understand\n",
    "* Decision tree\n",
    "  * Easy to interpret, no scaling needed, works on both linear and non-linear\n",
    "  * Poor in small, overfitting can occur\n",
    "* Random forest\n",
    "  * Powerful and accurate, good performance for many including linear\n",
    "  * No interpretability, overfitting can occur, need to choose number of trees\n",
    "\n",
    "## Choosing model\n",
    "\n",
    "* Is data linear? Or not?\n",
    "* If it is\n",
    "  * Simple linear\n",
    "  * Multiple linear if we have many features\n",
    "* If not\n",
    "  * Polynomial regression\n",
    "  * SVR\n",
    "  * Decision tree\n",
    "  * Random forest\n",
    "* How to choose? k-Fold cross validation.\n",
    "\n",
    "## How to improve?\n",
    "\n",
    "* Tune parameters\n",
    "* Regular\n",
    "  * Coefficients in linear regression\n",
    "  * Hyperparameters - Not learned, but fixed inside equations, like regularization or penalty"
   ]
  }
 ],
 "metadata": {
  "kernelspec": {
   "display_name": "R",
   "language": "R",
   "name": "ir"
  },
  "language_info": {
   "codemirror_mode": "r",
   "file_extension": ".r",
   "mimetype": "text/x-r-source",
   "name": "R",
   "pygments_lexer": "r",
   "version": "3.2.3"
  }
 },
 "nbformat": 4,
 "nbformat_minor": 2
}
