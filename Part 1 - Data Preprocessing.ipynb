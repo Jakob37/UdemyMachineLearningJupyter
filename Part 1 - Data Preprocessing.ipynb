{
 "cells": [
  {
   "cell_type": "markdown",
   "metadata": {},
   "source": [
    "# Load libraries"
   ]
  },
  {
   "cell_type": "code",
   "execution_count": 39,
   "metadata": {},
   "outputs": [
    {
     "name": "stdout",
     "output_type": "stream",
     "text": [
      "[1] \"Loading module to 'visutil' and 'vu'\"\n"
     ]
    }
   ],
   "source": [
    "library(caTools)\n",
    "library(ggplot2)\n",
    "source(\"~/src/jupyterrutils/VisualizationUtils.R\")"
   ]
  },
  {
   "cell_type": "markdown",
   "metadata": {},
   "source": [
    "# Loading the data\n",
    "\n",
    "After downloading the folder structure, and the data related to this lecture."
   ]
  },
  {
   "cell_type": "code",
   "execution_count": 1,
   "metadata": {
    "collapsed": true
   },
   "outputs": [],
   "source": [
    "dataset = read.csv(\"../machine_learning_template_folder/Part 1 - Data Preprocessing/Data_Preprocessing/Data.csv\")"
   ]
  },
  {
   "cell_type": "code",
   "execution_count": 2,
   "metadata": {},
   "outputs": [
    {
     "data": {
      "text/html": [
       "<table>\n",
       "<thead><tr><th scope=col>Country</th><th scope=col>Age</th><th scope=col>Salary</th><th scope=col>Purchased</th></tr></thead>\n",
       "<tbody>\n",
       "\t<tr><td>France </td><td>44     </td><td>72000  </td><td>No     </td></tr>\n",
       "\t<tr><td>Spain  </td><td>27     </td><td>48000  </td><td>Yes    </td></tr>\n",
       "\t<tr><td>Germany</td><td>30     </td><td>54000  </td><td>No     </td></tr>\n",
       "\t<tr><td>Spain  </td><td>38     </td><td>61000  </td><td>No     </td></tr>\n",
       "\t<tr><td>Germany</td><td>40     </td><td>   NA  </td><td>Yes    </td></tr>\n",
       "\t<tr><td>France </td><td>35     </td><td>58000  </td><td>Yes    </td></tr>\n",
       "\t<tr><td>Spain  </td><td>NA     </td><td>52000  </td><td>No     </td></tr>\n",
       "\t<tr><td>France </td><td>48     </td><td>79000  </td><td>Yes    </td></tr>\n",
       "\t<tr><td>Germany</td><td>50     </td><td>83000  </td><td>No     </td></tr>\n",
       "\t<tr><td>France </td><td>37     </td><td>67000  </td><td>Yes    </td></tr>\n",
       "</tbody>\n",
       "</table>\n"
      ],
      "text/latex": [
       "\\begin{tabular}{r|llll}\n",
       " Country & Age & Salary & Purchased\\\\\n",
       "\\hline\n",
       "\t France  & 44      & 72000   & No     \\\\\n",
       "\t Spain   & 27      & 48000   & Yes    \\\\\n",
       "\t Germany & 30      & 54000   & No     \\\\\n",
       "\t Spain   & 38      & 61000   & No     \\\\\n",
       "\t Germany & 40      &    NA   & Yes    \\\\\n",
       "\t France  & 35      & 58000   & Yes    \\\\\n",
       "\t Spain   & NA      & 52000   & No     \\\\\n",
       "\t France  & 48      & 79000   & Yes    \\\\\n",
       "\t Germany & 50      & 83000   & No     \\\\\n",
       "\t France  & 37      & 67000   & Yes    \\\\\n",
       "\\end{tabular}\n"
      ],
      "text/markdown": [
       "\n",
       "Country | Age | Salary | Purchased | \n",
       "|---|---|---|---|---|---|---|---|---|---|\n",
       "| France  | 44      | 72000   | No      | \n",
       "| Spain   | 27      | 48000   | Yes     | \n",
       "| Germany | 30      | 54000   | No      | \n",
       "| Spain   | 38      | 61000   | No      | \n",
       "| Germany | 40      |    NA   | Yes     | \n",
       "| France  | 35      | 58000   | Yes     | \n",
       "| Spain   | NA      | 52000   | No      | \n",
       "| France  | 48      | 79000   | Yes     | \n",
       "| Germany | 50      | 83000   | No      | \n",
       "| France  | 37      | 67000   | Yes     | \n",
       "\n",
       "\n"
      ],
      "text/plain": [
       "   Country Age Salary Purchased\n",
       "1  France  44  72000  No       \n",
       "2  Spain   27  48000  Yes      \n",
       "3  Germany 30  54000  No       \n",
       "4  Spain   38  61000  No       \n",
       "5  Germany 40     NA  Yes      \n",
       "6  France  35  58000  Yes      \n",
       "7  Spain   NA  52000  No       \n",
       "8  France  48  79000  Yes      \n",
       "9  Germany 50  83000  No       \n",
       "10 France  37  67000  Yes      "
      ]
     },
     "metadata": {},
     "output_type": "display_data"
    }
   ],
   "source": [
    "dataset"
   ]
  },
  {
   "cell_type": "markdown",
   "metadata": {},
   "source": [
    "# Replacing missing values\n",
    "\n",
    "Nice way to replace value by calculating average of other values:\n",
    "\n",
    "```\n",
    "ave(dataset$Age, FUN=function(x) mean(x, na.rm=T))\n",
    "```\n",
    "\n",
    "Is the `ifelse` nice in context, or just confusing?"
   ]
  },
  {
   "cell_type": "code",
   "execution_count": 3,
   "metadata": {},
   "outputs": [
    {
     "data": {
      "text/html": [
       "<table>\n",
       "<thead><tr><th scope=col>Country</th><th scope=col>Age</th><th scope=col>Salary</th><th scope=col>Purchased</th></tr></thead>\n",
       "<tbody>\n",
       "\t<tr><td>France  </td><td>44.00000</td><td>72000.00</td><td>No      </td></tr>\n",
       "\t<tr><td>Spain   </td><td>27.00000</td><td>48000.00</td><td>Yes     </td></tr>\n",
       "\t<tr><td>Germany </td><td>30.00000</td><td>54000.00</td><td>No      </td></tr>\n",
       "\t<tr><td>Spain   </td><td>38.00000</td><td>61000.00</td><td>No      </td></tr>\n",
       "\t<tr><td>Germany </td><td>40.00000</td><td>63777.78</td><td>Yes     </td></tr>\n",
       "\t<tr><td>France  </td><td>35.00000</td><td>58000.00</td><td>Yes     </td></tr>\n",
       "\t<tr><td>Spain   </td><td>38.77778</td><td>52000.00</td><td>No      </td></tr>\n",
       "\t<tr><td>France  </td><td>48.00000</td><td>79000.00</td><td>Yes     </td></tr>\n",
       "\t<tr><td>Germany </td><td>50.00000</td><td>83000.00</td><td>No      </td></tr>\n",
       "\t<tr><td>France  </td><td>37.00000</td><td>67000.00</td><td>Yes     </td></tr>\n",
       "</tbody>\n",
       "</table>\n"
      ],
      "text/latex": [
       "\\begin{tabular}{r|llll}\n",
       " Country & Age & Salary & Purchased\\\\\n",
       "\\hline\n",
       "\t France   & 44.00000 & 72000.00 & No      \\\\\n",
       "\t Spain    & 27.00000 & 48000.00 & Yes     \\\\\n",
       "\t Germany  & 30.00000 & 54000.00 & No      \\\\\n",
       "\t Spain    & 38.00000 & 61000.00 & No      \\\\\n",
       "\t Germany  & 40.00000 & 63777.78 & Yes     \\\\\n",
       "\t France   & 35.00000 & 58000.00 & Yes     \\\\\n",
       "\t Spain    & 38.77778 & 52000.00 & No      \\\\\n",
       "\t France   & 48.00000 & 79000.00 & Yes     \\\\\n",
       "\t Germany  & 50.00000 & 83000.00 & No      \\\\\n",
       "\t France   & 37.00000 & 67000.00 & Yes     \\\\\n",
       "\\end{tabular}\n"
      ],
      "text/markdown": [
       "\n",
       "Country | Age | Salary | Purchased | \n",
       "|---|---|---|---|---|---|---|---|---|---|\n",
       "| France   | 44.00000 | 72000.00 | No       | \n",
       "| Spain    | 27.00000 | 48000.00 | Yes      | \n",
       "| Germany  | 30.00000 | 54000.00 | No       | \n",
       "| Spain    | 38.00000 | 61000.00 | No       | \n",
       "| Germany  | 40.00000 | 63777.78 | Yes      | \n",
       "| France   | 35.00000 | 58000.00 | Yes      | \n",
       "| Spain    | 38.77778 | 52000.00 | No       | \n",
       "| France   | 48.00000 | 79000.00 | Yes      | \n",
       "| Germany  | 50.00000 | 83000.00 | No       | \n",
       "| France   | 37.00000 | 67000.00 | Yes      | \n",
       "\n",
       "\n"
      ],
      "text/plain": [
       "   Country Age      Salary   Purchased\n",
       "1  France  44.00000 72000.00 No       \n",
       "2  Spain   27.00000 48000.00 Yes      \n",
       "3  Germany 30.00000 54000.00 No       \n",
       "4  Spain   38.00000 61000.00 No       \n",
       "5  Germany 40.00000 63777.78 Yes      \n",
       "6  France  35.00000 58000.00 Yes      \n",
       "7  Spain   38.77778 52000.00 No       \n",
       "8  France  48.00000 79000.00 Yes      \n",
       "9  Germany 50.00000 83000.00 No       \n",
       "10 France  37.00000 67000.00 Yes      "
      ]
     },
     "metadata": {},
     "output_type": "display_data"
    }
   ],
   "source": [
    "dataset$Age = ifelse(is.na(dataset$Age),\n",
    "                     ave(dataset$Age, FUN=function(x) mean(x, na.rm=T)),\n",
    "                     dataset$Age)\n",
    "\n",
    "dataset$Salary = ifelse(is.na(dataset$Salary),\n",
    "                     ave(dataset$Salary, FUN=function(x) mean(x, na.rm=T)),\n",
    "                     dataset$Salary)\n",
    "\n",
    "dataset"
   ]
  },
  {
   "cell_type": "markdown",
   "metadata": {},
   "source": [
    "# Categorical variables\n",
    "\n",
    "Categorical: Encoding text into numbers."
   ]
  },
  {
   "cell_type": "code",
   "execution_count": 7,
   "metadata": {},
   "outputs": [
    {
     "name": "stdout",
     "output_type": "stream",
     "text": [
      "'data.frame':\t10 obs. of  4 variables:\n",
      " $ Country  : Factor w/ 3 levels \"1\",\"2\",\"3\": 1 2 3 2 3 1 2 1 3 1\n",
      " $ Age      : num  44 27 30 38 40 ...\n",
      " $ Salary   : num  72000 48000 54000 61000 63778 ...\n",
      " $ Purchased: Factor w/ 2 levels \"0\",\"1\": 1 2 1 1 2 2 1 2 1 2\n"
     ]
    }
   ],
   "source": [
    "fdataset <- dataset\n",
    "fdataset$Country <- factor(fdataset$Country, \n",
    "                            levels=c('France', 'Spain', 'Germany'),\n",
    "                            labels=c(1, 2, 3))\n",
    "\n",
    "fdataset$Purchased <- factor(fdataset$Purchased,\n",
    "                            levels=c('No', 'Yes'),\n",
    "                            labels=c(0, 1))\n",
    "str(fdataset)"
   ]
  },
  {
   "cell_type": "markdown",
   "metadata": {},
   "source": [
    "# Splitting dataset into training and test\n",
    "\n",
    "Any machine learning model wants the data split in two sets. One for learning, and one for validate the learning."
   ]
  },
  {
   "cell_type": "code",
   "execution_count": 17,
   "metadata": {},
   "outputs": [],
   "source": [
    "set.seed(123)\n",
    "split <- sample.split(fdataset$Purchased, SplitRatio=0.8)\n",
    "\n",
    "training_set <- subset(fdataset, split==T)\n",
    "test_set <- subset(fdataset, split==F)\n"
   ]
  },
  {
   "cell_type": "code",
   "execution_count": 18,
   "metadata": {},
   "outputs": [
    {
     "data": {
      "text/html": [
       "<table>\n",
       "<thead><tr><th></th><th scope=col>Country</th><th scope=col>Age</th><th scope=col>Salary</th><th scope=col>Purchased</th></tr></thead>\n",
       "<tbody>\n",
       "\t<tr><th scope=row>1</th><td>1       </td><td>44.00000</td><td>72000.00</td><td>0       </td></tr>\n",
       "\t<tr><th scope=row>2</th><td>2       </td><td>27.00000</td><td>48000.00</td><td>1       </td></tr>\n",
       "\t<tr><th scope=row>3</th><td>3       </td><td>30.00000</td><td>54000.00</td><td>0       </td></tr>\n",
       "\t<tr><th scope=row>4</th><td>2       </td><td>38.00000</td><td>61000.00</td><td>0       </td></tr>\n",
       "\t<tr><th scope=row>5</th><td>3       </td><td>40.00000</td><td>63777.78</td><td>1       </td></tr>\n",
       "\t<tr><th scope=row>7</th><td>2       </td><td>38.77778</td><td>52000.00</td><td>0       </td></tr>\n",
       "\t<tr><th scope=row>8</th><td>1       </td><td>48.00000</td><td>79000.00</td><td>1       </td></tr>\n",
       "\t<tr><th scope=row>10</th><td>1       </td><td>37.00000</td><td>67000.00</td><td>1       </td></tr>\n",
       "</tbody>\n",
       "</table>\n"
      ],
      "text/latex": [
       "\\begin{tabular}{r|llll}\n",
       "  & Country & Age & Salary & Purchased\\\\\n",
       "\\hline\n",
       "\t1 & 1        & 44.00000 & 72000.00 & 0       \\\\\n",
       "\t2 & 2        & 27.00000 & 48000.00 & 1       \\\\\n",
       "\t3 & 3        & 30.00000 & 54000.00 & 0       \\\\\n",
       "\t4 & 2        & 38.00000 & 61000.00 & 0       \\\\\n",
       "\t5 & 3        & 40.00000 & 63777.78 & 1       \\\\\n",
       "\t7 & 2        & 38.77778 & 52000.00 & 0       \\\\\n",
       "\t8 & 1        & 48.00000 & 79000.00 & 1       \\\\\n",
       "\t10 & 1        & 37.00000 & 67000.00 & 1       \\\\\n",
       "\\end{tabular}\n"
      ],
      "text/markdown": [
       "\n",
       "| <!--/--> | Country | Age | Salary | Purchased | \n",
       "|---|---|---|---|---|---|---|---|\n",
       "| 1 | 1        | 44.00000 | 72000.00 | 0        | \n",
       "| 2 | 2        | 27.00000 | 48000.00 | 1        | \n",
       "| 3 | 3        | 30.00000 | 54000.00 | 0        | \n",
       "| 4 | 2        | 38.00000 | 61000.00 | 0        | \n",
       "| 5 | 3        | 40.00000 | 63777.78 | 1        | \n",
       "| 7 | 2        | 38.77778 | 52000.00 | 0        | \n",
       "| 8 | 1        | 48.00000 | 79000.00 | 1        | \n",
       "| 10 | 1        | 37.00000 | 67000.00 | 1        | \n",
       "\n",
       "\n"
      ],
      "text/plain": [
       "   Country Age      Salary   Purchased\n",
       "1  1       44.00000 72000.00 0        \n",
       "2  2       27.00000 48000.00 1        \n",
       "3  3       30.00000 54000.00 0        \n",
       "4  2       38.00000 61000.00 0        \n",
       "5  3       40.00000 63777.78 1        \n",
       "7  2       38.77778 52000.00 0        \n",
       "8  1       48.00000 79000.00 1        \n",
       "10 1       37.00000 67000.00 1        "
      ]
     },
     "metadata": {},
     "output_type": "display_data"
    },
    {
     "data": {
      "text/html": [
       "<table>\n",
       "<thead><tr><th></th><th scope=col>Country</th><th scope=col>Age</th><th scope=col>Salary</th><th scope=col>Purchased</th></tr></thead>\n",
       "<tbody>\n",
       "\t<tr><th scope=row>6</th><td>1    </td><td>35   </td><td>58000</td><td>1    </td></tr>\n",
       "\t<tr><th scope=row>9</th><td>3    </td><td>50   </td><td>83000</td><td>0    </td></tr>\n",
       "</tbody>\n",
       "</table>\n"
      ],
      "text/latex": [
       "\\begin{tabular}{r|llll}\n",
       "  & Country & Age & Salary & Purchased\\\\\n",
       "\\hline\n",
       "\t6 & 1     & 35    & 58000 & 1    \\\\\n",
       "\t9 & 3     & 50    & 83000 & 0    \\\\\n",
       "\\end{tabular}\n"
      ],
      "text/markdown": [
       "\n",
       "| <!--/--> | Country | Age | Salary | Purchased | \n",
       "|---|---|\n",
       "| 6 | 1     | 35    | 58000 | 1     | \n",
       "| 9 | 3     | 50    | 83000 | 0     | \n",
       "\n",
       "\n"
      ],
      "text/plain": [
       "  Country Age Salary Purchased\n",
       "6 1       35  58000  1        \n",
       "9 3       50  83000  0        "
      ]
     },
     "metadata": {},
     "output_type": "display_data"
    }
   ],
   "source": [
    "training_set\n",
    "test_set"
   ]
  },
  {
   "cell_type": "markdown",
   "metadata": {},
   "source": [
    "# Feature scaling\n",
    "\n",
    "Why scaling? For age and salary - some models use euclidian distance. As the scales are way of here the difference will be dominated by the salary distance.\n",
    "\n",
    "**Standardization** - scaling to standard distribution size, centered around zero.\n",
    "\n",
    "```\n",
    "x_stand = (x - mean(x)) / std(x)\n",
    "```\n",
    "\n",
    "**Normalization** - scaling it down to 0 - 1 range?\n",
    "\n",
    "```\n",
    "x_norm = (x - min(x)) / (max(x) - min(x))\n",
    "```\n",
    "\n"
   ]
  },
  {
   "cell_type": "markdown",
   "metadata": {},
   "source": [
    "## Exploration\n",
    "\n",
    "Note how shape of histogram is identical for raw and normalized, while the standardization transforms the data!"
   ]
  },
  {
   "cell_type": "code",
   "execution_count": 49,
   "metadata": {},
   "outputs": [
    {
     "data": {
      "text/html": [
       "<table>\n",
       "<thead><tr><th scope=col>x</th><th scope=col>standardized</th><th scope=col>normalized</th><th scope=col>scaled</th></tr></thead>\n",
       "<tbody>\n",
       "\t<tr><td> 1        </td><td>-1.6885658</td><td>0.00000000</td><td>-1.6885658</td></tr>\n",
       "\t<tr><td> 6        </td><td>-1.5129662</td><td>0.05154639</td><td>-1.5129662</td></tr>\n",
       "\t<tr><td>87        </td><td> 1.3317474</td><td>0.88659794</td><td> 1.3317474</td></tr>\n",
       "\t<tr><td>58        </td><td> 0.3132697</td><td>0.58762887</td><td> 0.3132697</td></tr>\n",
       "\t<tr><td>32        </td><td>-0.5998482</td><td>0.31958763</td><td>-0.5998482</td></tr>\n",
       "\t<tr><td>96        </td><td> 1.6478266</td><td>0.97938144</td><td> 1.6478266</td></tr>\n",
       "</tbody>\n",
       "</table>\n"
      ],
      "text/latex": [
       "\\begin{tabular}{r|llll}\n",
       " x & standardized & normalized & scaled\\\\\n",
       "\\hline\n",
       "\t  1         & -1.6885658 & 0.00000000 & -1.6885658\\\\\n",
       "\t  6         & -1.5129662 & 0.05154639 & -1.5129662\\\\\n",
       "\t 87         &  1.3317474 & 0.88659794 &  1.3317474\\\\\n",
       "\t 58         &  0.3132697 & 0.58762887 &  0.3132697\\\\\n",
       "\t 32         & -0.5998482 & 0.31958763 & -0.5998482\\\\\n",
       "\t 96         &  1.6478266 & 0.97938144 &  1.6478266\\\\\n",
       "\\end{tabular}\n"
      ],
      "text/markdown": [
       "\n",
       "x | standardized | normalized | scaled | \n",
       "|---|---|---|---|---|---|\n",
       "|  1         | -1.6885658 | 0.00000000 | -1.6885658 | \n",
       "|  6         | -1.5129662 | 0.05154639 | -1.5129662 | \n",
       "| 87         |  1.3317474 | 0.88659794 |  1.3317474 | \n",
       "| 58         |  0.3132697 | 0.58762887 |  0.3132697 | \n",
       "| 32         | -0.5998482 | 0.31958763 | -0.5998482 | \n",
       "| 96         |  1.6478266 | 0.97938144 |  1.6478266 | \n",
       "\n",
       "\n"
      ],
      "text/plain": [
       "  x  standardized normalized scaled    \n",
       "1  1 -1.6885658   0.00000000 -1.6885658\n",
       "2  6 -1.5129662   0.05154639 -1.5129662\n",
       "3 87  1.3317474   0.88659794  1.3317474\n",
       "4 58  0.3132697   0.58762887  0.3132697\n",
       "5 32 -0.5998482   0.31958763 -0.5998482\n",
       "6 96  1.6478266   0.97938144  1.6478266"
      ]
     },
     "metadata": {},
     "output_type": "display_data"
    }
   ],
   "source": [
    "x <- sample(x=seq(1,100,1), size = 100, replace = T)\n",
    "df <- data.frame(x=x)\n",
    "df$standardized <- (x - mean(x)) / sd(x)\n",
    "df$normalized <- (x - min(x)) / (max(x) - min(x))\n",
    "df$scaled <- scale(x)\n",
    "head(df)"
   ]
  },
  {
   "cell_type": "code",
   "execution_count": 52,
   "metadata": {},
   "outputs": [
    {
     "data": {
      "image/png": "[encoded data removed]",
      "text/plain": [
       "plot without title"
      ]
     },
     "metadata": {},
     "output_type": "display_data"
    }
   ],
   "source": [
    "vu$pltsize(8, 8)\n",
    "raw_plt <- ggplot(df, aes(x)) + geom_histogram(bins=10) + ggtitle(\"Raw\")\n",
    "stand_plt <- ggplot(df, aes(standardized)) + geom_histogram(bins=10) + ggtitle(\"Standardized\")\n",
    "norm_plt <- ggplot(df, aes(normalized)) + geom_histogram(bins=10) + ggtitle(\"Normalized\")\n",
    "scaled_plt <- ggplot(df, aes(scaled)) + geom_histogram(bins=10) + ggtitle(\"Scaled\")\n",
    "vu$multiplot(raw_plt, stand_plt, norm_plt, scaled_plt, cols=2)"
   ]
  },
  {
   "cell_type": "markdown",
   "metadata": {},
   "source": [
    "## Course example - Scaling test and training sets\n",
    "\n",
    "We only want to scale the non-factor columns."
   ]
  },
  {
   "cell_type": "code",
   "execution_count": 29,
   "metadata": {},
   "outputs": [],
   "source": [
    "scaled_training_set <- scale(training_set[, 2:3])\n",
    "scaled_test_set <- scale(test_set[, 2:3])"
   ]
  },
  {
   "cell_type": "code",
   "execution_count": 31,
   "metadata": {
    "collapsed": true
   },
   "outputs": [],
   "source": [
    "?scale"
   ]
  },
  {
   "cell_type": "code",
   "execution_count": 53,
   "metadata": {},
   "outputs": [
    {
     "data": {
      "text/html": [
       "<table>\n",
       "<thead><tr><th></th><th scope=col>Age</th><th scope=col>Salary</th></tr></thead>\n",
       "<tbody>\n",
       "\t<tr><th scope=row>1</th><td> 0.90101716</td><td> 0.9392746 </td></tr>\n",
       "\t<tr><th scope=row>2</th><td>-1.58847494</td><td>-1.3371160 </td></tr>\n",
       "\t<tr><th scope=row>3</th><td>-1.14915281</td><td>-0.7680183 </td></tr>\n",
       "\t<tr><th scope=row>4</th><td> 0.02237289</td><td>-0.1040711 </td></tr>\n",
       "\t<tr><th scope=row>5</th><td> 0.31525431</td><td> 0.1594000 </td></tr>\n",
       "\t<tr><th scope=row>7</th><td> 0.13627122</td><td>-0.9577176 </td></tr>\n",
       "\t<tr><th scope=row>8</th><td> 1.48678000</td><td> 1.6032218 </td></tr>\n",
       "\t<tr><th scope=row>10</th><td>-0.12406783</td><td> 0.4650265 </td></tr>\n",
       "</tbody>\n",
       "</table>\n"
      ],
      "text/latex": [
       "\\begin{tabular}{r|ll}\n",
       "  & Age & Salary\\\\\n",
       "\\hline\n",
       "\t1 &  0.90101716 &  0.9392746 \\\\\n",
       "\t2 & -1.58847494 & -1.3371160 \\\\\n",
       "\t3 & -1.14915281 & -0.7680183 \\\\\n",
       "\t4 &  0.02237289 & -0.1040711 \\\\\n",
       "\t5 &  0.31525431 &  0.1594000 \\\\\n",
       "\t7 &  0.13627122 & -0.9577176 \\\\\n",
       "\t8 &  1.48678000 &  1.6032218 \\\\\n",
       "\t10 & -0.12406783 &  0.4650265 \\\\\n",
       "\\end{tabular}\n"
      ],
      "text/markdown": [
       "\n",
       "| <!--/--> | Age | Salary | \n",
       "|---|---|---|---|---|---|---|---|\n",
       "| 1 |  0.90101716 |  0.9392746  | \n",
       "| 2 | -1.58847494 | -1.3371160  | \n",
       "| 3 | -1.14915281 | -0.7680183  | \n",
       "| 4 |  0.02237289 | -0.1040711  | \n",
       "| 5 |  0.31525431 |  0.1594000  | \n",
       "| 7 |  0.13627122 | -0.9577176  | \n",
       "| 8 |  1.48678000 |  1.6032218  | \n",
       "| 10 | -0.12406783 |  0.4650265  | \n",
       "\n",
       "\n"
      ],
      "text/plain": [
       "   Age         Salary    \n",
       "1   0.90101716  0.9392746\n",
       "2  -1.58847494 -1.3371160\n",
       "3  -1.14915281 -0.7680183\n",
       "4   0.02237289 -0.1040711\n",
       "5   0.31525431  0.1594000\n",
       "7   0.13627122 -0.9577176\n",
       "8   1.48678000  1.6032218\n",
       "10 -0.12406783  0.4650265"
      ]
     },
     "metadata": {},
     "output_type": "display_data"
    },
    {
     "data": {
      "text/html": [
       "<table>\n",
       "<thead><tr><th></th><th scope=col>Age</th><th scope=col>Salary</th></tr></thead>\n",
       "<tbody>\n",
       "\t<tr><th scope=row>6</th><td>-0.7071068</td><td>-0.7071068</td></tr>\n",
       "\t<tr><th scope=row>9</th><td> 0.7071068</td><td> 0.7071068</td></tr>\n",
       "</tbody>\n",
       "</table>\n"
      ],
      "text/latex": [
       "\\begin{tabular}{r|ll}\n",
       "  & Age & Salary\\\\\n",
       "\\hline\n",
       "\t6 & -0.7071068 & -0.7071068\\\\\n",
       "\t9 &  0.7071068 &  0.7071068\\\\\n",
       "\\end{tabular}\n"
      ],
      "text/markdown": [
       "\n",
       "| <!--/--> | Age | Salary | \n",
       "|---|---|\n",
       "| 6 | -0.7071068 | -0.7071068 | \n",
       "| 9 |  0.7071068 |  0.7071068 | \n",
       "\n",
       "\n"
      ],
      "text/plain": [
       "  Age        Salary    \n",
       "6 -0.7071068 -0.7071068\n",
       "9  0.7071068  0.7071068"
      ]
     },
     "metadata": {},
     "output_type": "display_data"
    }
   ],
   "source": [
    "scaled_training_set\n",
    "scaled_test_set"
   ]
  },
  {
   "cell_type": "markdown",
   "metadata": {},
   "source": [
    "# Data preprocessing template"
   ]
  },
  {
   "cell_type": "markdown",
   "metadata": {},
   "source": [
    "```\n",
    "library(caTools)\n",
    "library(ggplot2)\n",
    "source(\"~/src/jupyterutils/VisualizationUtils.R\")\n",
    "\n",
    "target_cols <- c(2,3)\n",
    "\n",
    "dataset <- read.csv('my_data.csv')\n",
    "# dataset <- dataset[, target_cols]  # Select columns of interest\n",
    "\n",
    "set.seed(123)\n",
    "split <- sample.split(dataset$Purchased, splitRatio=0.8)\n",
    "training_set <- sample.split(dataset$Purchased, splitRatio=0.8)\n",
    "test_set <- sample.split(dataset$Purchased, splitRatio=0.2)\n",
    "\n",
    "# training_set \n",
    "# training_set[, target_cols] <- scale(training_set[, target_cols])\n",
    "# test_set[, target_cols] <- scale(test_set[, target_cols])\n",
    "```"
   ]
  }
 ],
 "metadata": {
  "kernelspec": {
   "display_name": "R",
   "language": "R",
   "name": "ir"
  },
  "language_info": {
   "codemirror_mode": "r",
   "file_extension": ".r",
   "mimetype": "text/x-r-source",
   "name": "R",
   "pygments_lexer": "r",
   "version": "3.2.3"
  }
 },
 "nbformat": 4,
 "nbformat_minor": 2
}
