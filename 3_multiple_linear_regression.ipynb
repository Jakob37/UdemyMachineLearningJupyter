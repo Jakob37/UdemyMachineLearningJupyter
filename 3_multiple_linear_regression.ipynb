{
 "cells": [
  {
   "cell_type": "markdown",
   "metadata": {},
   "source": [
    "# The dataset\n",
    "\n",
    "'50 startups'. Different startups with variables:\n",
    "\n",
    "* Profit\n",
    "* R&D Spend\n",
    "* Administration\n",
    "* Marketing Spend\n",
    "* State - Categorical variable!\n",
    "\n",
    "What yields best results? Which companies are more interesting?"
   ]
  },
  {
   "cell_type": "markdown",
   "metadata": {},
   "source": [
    "# Regressions\n",
    "\n",
    "* Simple linear: One independent\n",
    "* Multiple linear: Several independent\n",
    "\n",
    "Assumptions:\n",
    "\n",
    "* Linearity: Data is actually linear\n",
    "* Homoscedasticity: Same finite variance - variance homogenous even for larger values.\n",
    "* Multivariate normality: Aha, normal distribution in multiple dimensions when combined. (Can it be different if sub-components are normal?)\n",
    "* Independence of errors: Errors are not systematic?\n",
    "* Lack of multicollinearity: Lines not codependent? No interaction?\n"
   ]
  },
  {
   "cell_type": "markdown",
   "metadata": {},
   "source": [
    "# Dummy variables\n",
    "\n",
    "Dummy variable: Replacing New York / California with a 0/1 value.\n",
    "\n",
    "If using multiple dummy variable levels - if you retain both it messes things up. You always include one less than levels. \n",
    "\n",
    "The risk: It leads to situation where one variable can be predicted using another.\n",
    "\n",
    "http://www.algosome.com/articles/dummy-variable-trap-regression.html\n",
    "\n"
   ]
  },
  {
   "cell_type": "markdown",
   "metadata": {},
   "source": [
    "# What is a p\n",
    "\n",
    "https://www.mathbootcamps.com/what-is-a-p-value/\n",
    "\n",
    "`P-value tells us how unlikely result is if hypothesis is true`.\n",
    "\n",
    "p = 0.18 here tells us that probability of getting a mean of 68.7 or less from sample of particular size is 0.18 if the peanuts in the population is 70 grams or more."
   ]
  },
  {
   "cell_type": "markdown",
   "metadata": {},
   "source": [
    "# How to build models - Step by step\n",
    "\n",
    "Framework for several methods. All columns potential predictors! Why do we want to trim our model?\n",
    "\n",
    "* Garbage in garbage out\n",
    "* Intuition - Need to be able to explain what's up\n",
    "\n",
    "## All-in\n",
    "\n",
    "Throw in all variables. When:\n",
    "\n",
    "* We have prior knowledge - Everything is valuable\n",
    "* Framework saying you have to use everything\n",
    "* Preparing for backward elimination\n",
    "\n",
    "## Backward Elimination (stepwise)\n",
    "\n",
    "Steps:\n",
    "\n",
    "* Select significance level to stay in model\n",
    "* Fit full model with *all* possible predictors\n",
    "* Consider predictor with *highest* value. If > threshold.\n",
    "* If so, remove the predictor\n",
    "* Re-fit the model without the variable\n",
    "\n",
    "## Forward Selection (stepwise)\n",
    "\n",
    "More complex than just reversing previous.\n",
    "\n",
    "* Select significance level\n",
    "* Fit all simple regression models `y ~ x_n`. Select with lowest p.\n",
    "* Keep this and fit all possible models with one extra predictor. Which additional is best?\n",
    "* Consider new with lowest p. Lower than threshold, repeat from 3.\n",
    "\n",
    "## Bidirectional Elimination (stepwise, or Stepwise)\n",
    "\n",
    "* Select level to enter and to stay\n",
    "* To enter, need to be less than SLENTER\n",
    "* Perform all backward elimination. Back to 2.\n",
    "* No new variables can enter and no variables can exit.\n",
    "\n",
    "## All possible models\n",
    "\n",
    "* Select criterion of goodness of fit\n",
    "* Construct all possible regression models\n",
    "* Select the one with the best criterion\n",
    "\n",
    "Can be very big!"
   ]
  },
  {
   "cell_type": "code",
   "execution_count": 1,
   "metadata": {},
   "outputs": [
    {
     "name": "stdout",
     "output_type": "stream",
     "text": [
      "[1] \"Loading module to 'visutil' and 'vu'\"\n"
     ]
    }
   ],
   "source": [
    "library(caTools)\n",
    "set.seed(123)\n",
    "\n",
    "source(\"~/src/jupyterrutils/VisualizationUtils.R\")"
   ]
  },
  {
   "cell_type": "code",
   "execution_count": 2,
   "metadata": {},
   "outputs": [
    {
     "data": {
      "text/html": [
       "<table>\n",
       "<thead><tr><th scope=col>R.D.Spend</th><th scope=col>Administration</th><th scope=col>Marketing.Spend</th><th scope=col>State</th><th scope=col>Profit</th></tr></thead>\n",
       "<tbody>\n",
       "\t<tr><td>165349.2  </td><td>136897.80 </td><td>471784.1  </td><td>New York  </td><td>192261.8  </td></tr>\n",
       "\t<tr><td>162597.7  </td><td>151377.59 </td><td>443898.5  </td><td>California</td><td>191792.1  </td></tr>\n",
       "\t<tr><td>153441.5  </td><td>101145.55 </td><td>407934.5  </td><td>Florida   </td><td>191050.4  </td></tr>\n",
       "\t<tr><td>144372.4  </td><td>118671.85 </td><td>383199.6  </td><td>New York  </td><td>182902.0  </td></tr>\n",
       "\t<tr><td>142107.3  </td><td> 91391.77 </td><td>366168.4  </td><td>Florida   </td><td>166187.9  </td></tr>\n",
       "\t<tr><td>131876.9  </td><td> 99814.71 </td><td>362861.4  </td><td>New York  </td><td>156991.1  </td></tr>\n",
       "</tbody>\n",
       "</table>\n"
      ],
      "text/latex": [
       "\\begin{tabular}{r|lllll}\n",
       " R.D.Spend & Administration & Marketing.Spend & State & Profit\\\\\n",
       "\\hline\n",
       "\t 165349.2   & 136897.80  & 471784.1   & New York   & 192261.8  \\\\\n",
       "\t 162597.7   & 151377.59  & 443898.5   & California & 191792.1  \\\\\n",
       "\t 153441.5   & 101145.55  & 407934.5   & Florida    & 191050.4  \\\\\n",
       "\t 144372.4   & 118671.85  & 383199.6   & New York   & 182902.0  \\\\\n",
       "\t 142107.3   &  91391.77  & 366168.4   & Florida    & 166187.9  \\\\\n",
       "\t 131876.9   &  99814.71  & 362861.4   & New York   & 156991.1  \\\\\n",
       "\\end{tabular}\n"
      ],
      "text/markdown": [
       "\n",
       "R.D.Spend | Administration | Marketing.Spend | State | Profit | \n",
       "|---|---|---|---|---|---|\n",
       "| 165349.2   | 136897.80  | 471784.1   | New York   | 192261.8   | \n",
       "| 162597.7   | 151377.59  | 443898.5   | California | 191792.1   | \n",
       "| 153441.5   | 101145.55  | 407934.5   | Florida    | 191050.4   | \n",
       "| 144372.4   | 118671.85  | 383199.6   | New York   | 182902.0   | \n",
       "| 142107.3   |  91391.77  | 366168.4   | Florida    | 166187.9   | \n",
       "| 131876.9   |  99814.71  | 362861.4   | New York   | 156991.1   | \n",
       "\n",
       "\n"
      ],
      "text/plain": [
       "  R.D.Spend Administration Marketing.Spend State      Profit  \n",
       "1 165349.2  136897.80      471784.1        New York   192261.8\n",
       "2 162597.7  151377.59      443898.5        California 191792.1\n",
       "3 153441.5  101145.55      407934.5        Florida    191050.4\n",
       "4 144372.4  118671.85      383199.6        New York   182902.0\n",
       "5 142107.3   91391.77      366168.4        Florida    166187.9\n",
       "6 131876.9   99814.71      362861.4        New York   156991.1"
      ]
     },
     "metadata": {},
     "output_type": "display_data"
    },
    {
     "name": "stdout",
     "output_type": "stream",
     "text": [
      " Factor w/ 3 levels \"California\",\"Florida\",..: 3 1 2 3 2 3 1 2 3 1 ...\n"
     ]
    },
    {
     "data": {
      "text/html": [
       "<ol class=list-inline>\n",
       "\t<li>50</li>\n",
       "\t<li>5</li>\n",
       "</ol>\n"
      ],
      "text/latex": [
       "\\begin{enumerate*}\n",
       "\\item 50\n",
       "\\item 5\n",
       "\\end{enumerate*}\n"
      ],
      "text/markdown": [
       "1. 50\n",
       "2. 5\n",
       "\n",
       "\n"
      ],
      "text/plain": [
       "[1] 50  5"
      ]
     },
     "metadata": {},
     "output_type": "display_data"
    },
    {
     "data": {
      "text/html": [
       "<ol class=list-inline>\n",
       "\t<li>40</li>\n",
       "\t<li>5</li>\n",
       "</ol>\n"
      ],
      "text/latex": [
       "\\begin{enumerate*}\n",
       "\\item 40\n",
       "\\item 5\n",
       "\\end{enumerate*}\n"
      ],
      "text/markdown": [
       "1. 40\n",
       "2. 5\n",
       "\n",
       "\n"
      ],
      "text/plain": [
       "[1] 40  5"
      ]
     },
     "metadata": {},
     "output_type": "display_data"
    },
    {
     "data": {
      "text/html": [
       "<ol class=list-inline>\n",
       "\t<li>10</li>\n",
       "\t<li>5</li>\n",
       "</ol>\n"
      ],
      "text/latex": [
       "\\begin{enumerate*}\n",
       "\\item 10\n",
       "\\item 5\n",
       "\\end{enumerate*}\n"
      ],
      "text/markdown": [
       "1. 10\n",
       "2. 5\n",
       "\n",
       "\n"
      ],
      "text/plain": [
       "[1] 10  5"
      ]
     },
     "metadata": {},
     "output_type": "display_data"
    }
   ],
   "source": [
    "fp <- \"../machine_learning_template_folder/Part 2 - Regression/Section 5 - Multiple Linear Regression/Multiple_Linear_Regression/50_Startups.csv\"\n",
    "df <- read.csv(fp)\n",
    "head(df)\n",
    "\n",
    "df$State <- factor(df$State)\n",
    "str(df$State)\n",
    "\n",
    "split <- sample.split(df$Profit, SplitRatio = 0.8)\n",
    "training_set <- subset(df, split==T)\n",
    "test_set <- subset(df, split==F)\n",
    "\n",
    "dim(df)\n",
    "dim(training_set)\n",
    "dim(test_set)"
   ]
  },
  {
   "cell_type": "markdown",
   "metadata": {},
   "source": [
    "Feature scaling handled by the regression model, so we don't need this as separate step"
   ]
  },
  {
   "cell_type": "markdown",
   "metadata": {
    "collapsed": true
   },
   "source": [
    "# Applying a regressor\n",
    "\n",
    "Can also express as dot for combination of all arguments.\n",
    "\n",
    "R creates dummy variables for the factor here, and removes one dummy. We also seem to have significant effect for the R.D.Spend."
   ]
  },
  {
   "cell_type": "code",
   "execution_count": 4,
   "metadata": {},
   "outputs": [
    {
     "data": {
      "text/plain": [
       "\n",
       "Call:\n",
       "lm(formula = Profit ~ R.D.Spend + Administration + Marketing.Spend + \n",
       "    State, data = training_set)\n",
       "\n",
       "Residuals:\n",
       "   Min     1Q Median     3Q    Max \n",
       "-33128  -4865      5   6098  18065 \n",
       "\n",
       "Coefficients:\n",
       "                  Estimate Std. Error t value Pr(>|t|)    \n",
       "(Intercept)      4.977e+04  7.516e+03   6.622 1.36e-07 ***\n",
       "R.D.Spend        7.986e-01  5.604e-02  14.251 6.70e-16 ***\n",
       "Administration  -2.942e-02  5.828e-02  -0.505    0.617    \n",
       "Marketing.Spend  3.268e-02  2.127e-02   1.537    0.134    \n",
       "StateFlorida     1.162e+02  4.048e+03   0.029    0.977    \n",
       "StateNew York   -1.213e+02  3.751e+03  -0.032    0.974    \n",
       "---\n",
       "Signif. codes:  0 ‘***’ 0.001 ‘**’ 0.01 ‘*’ 0.05 ‘.’ 0.1 ‘ ’ 1\n",
       "\n",
       "Residual standard error: 9908 on 34 degrees of freedom\n",
       "Multiple R-squared:  0.9499,\tAdjusted R-squared:  0.9425 \n",
       "F-statistic:   129 on 5 and 34 DF,  p-value: < 2.2e-16\n"
      ]
     },
     "metadata": {},
     "output_type": "display_data"
    }
   ],
   "source": [
    "regressor = lm(formula = Profit ~ R.D.Spend + Administration + Marketing.Spend + State, data=training_set)\n",
    "summary(regressor)"
   ]
  },
  {
   "cell_type": "markdown",
   "metadata": {},
   "source": [
    "# Predicting test set results"
   ]
  },
  {
   "cell_type": "code",
   "execution_count": 6,
   "metadata": {},
   "outputs": [
    {
     "data": {
      "text/html": [
       "<dl class=dl-horizontal>\n",
       "\t<dt>4</dt>\n",
       "\t\t<dd>173981.087289013</dd>\n",
       "\t<dt>5</dt>\n",
       "\t\t<dd>172655.638294541</dd>\n",
       "\t<dt>8</dt>\n",
       "\t\t<dd>160250.020750651</dd>\n",
       "\t<dt>11</dt>\n",
       "\t\t<dd>135513.899440935</dd>\n",
       "\t<dt>16</dt>\n",
       "\t\t<dd>146059.361208703</dd>\n",
       "\t<dt>20</dt>\n",
       "\t\t<dd>114151.026047729</dd>\n",
       "\t<dt>21</dt>\n",
       "\t\t<dd>117081.624376537</dd>\n",
       "\t<dt>24</dt>\n",
       "\t\t<dd>110671.313743947</dd>\n",
       "\t<dt>31</dt>\n",
       "\t\t<dd>98975.2939884832</dd>\n",
       "\t<dt>32</dt>\n",
       "\t\t<dd>96867.0305670216</dd>\n",
       "</dl>\n"
      ],
      "text/latex": [
       "\\begin{description*}\n",
       "\\item[4] 173981.087289013\n",
       "\\item[5] 172655.638294541\n",
       "\\item[8] 160250.020750651\n",
       "\\item[11] 135513.899440935\n",
       "\\item[16] 146059.361208703\n",
       "\\item[20] 114151.026047729\n",
       "\\item[21] 117081.624376537\n",
       "\\item[24] 110671.313743947\n",
       "\\item[31] 98975.2939884832\n",
       "\\item[32] 96867.0305670216\n",
       "\\end{description*}\n"
      ],
      "text/markdown": [
       "4\n",
       ":   173981.0872890135\n",
       ":   172655.6382945418\n",
       ":   160250.02075065111\n",
       ":   135513.89944093516\n",
       ":   146059.36120870320\n",
       ":   114151.02604772921\n",
       ":   117081.62437653724\n",
       ":   110671.31374394731\n",
       ":   98975.293988483232\n",
       ":   96867.0305670216\n",
       "\n"
      ],
      "text/plain": [
       "        4         5         8        11        16        20        21        24 \n",
       "173981.09 172655.64 160250.02 135513.90 146059.36 114151.03 117081.62 110671.31 \n",
       "       31        32 \n",
       " 98975.29  96867.03 "
      ]
     },
     "metadata": {},
     "output_type": "display_data"
    },
    {
     "data": {
      "text/html": [
       "<table>\n",
       "<thead><tr><th></th><th scope=col>R.D.Spend</th><th scope=col>Administration</th><th scope=col>Marketing.Spend</th><th scope=col>State</th><th scope=col>Profit</th></tr></thead>\n",
       "<tbody>\n",
       "\t<tr><th scope=row>4</th><td>144372.41 </td><td>118671.85 </td><td>383199.62 </td><td>New York  </td><td>182901.99 </td></tr>\n",
       "\t<tr><th scope=row>5</th><td>142107.34 </td><td> 91391.77 </td><td>366168.42 </td><td>Florida   </td><td>166187.94 </td></tr>\n",
       "\t<tr><th scope=row>8</th><td>130298.13 </td><td>145530.06 </td><td>323876.68 </td><td>Florida   </td><td>155752.60 </td></tr>\n",
       "\t<tr><th scope=row>11</th><td>101913.08 </td><td>110594.11 </td><td>229160.95 </td><td>Florida   </td><td>146121.95 </td></tr>\n",
       "\t<tr><th scope=row>16</th><td>114523.61 </td><td>122616.84 </td><td>261776.23 </td><td>New York  </td><td>129917.04 </td></tr>\n",
       "\t<tr><th scope=row>20</th><td> 86419.70 </td><td>153514.11 </td><td>     0.00 </td><td>New York  </td><td>122776.86 </td></tr>\n",
       "\t<tr><th scope=row>21</th><td> 76253.86 </td><td>113867.30 </td><td>298664.47 </td><td>California</td><td>118474.03 </td></tr>\n",
       "\t<tr><th scope=row>24</th><td> 67532.53 </td><td>105751.03 </td><td>304768.73 </td><td>Florida   </td><td>108733.99 </td></tr>\n",
       "\t<tr><th scope=row>31</th><td> 61994.48 </td><td>115641.28 </td><td> 91131.24 </td><td>Florida   </td><td> 99937.59 </td></tr>\n",
       "\t<tr><th scope=row>32</th><td> 61136.38 </td><td>152701.92 </td><td> 88218.23 </td><td>New York  </td><td> 97483.56 </td></tr>\n",
       "</tbody>\n",
       "</table>\n"
      ],
      "text/latex": [
       "\\begin{tabular}{r|lllll}\n",
       "  & R.D.Spend & Administration & Marketing.Spend & State & Profit\\\\\n",
       "\\hline\n",
       "\t4 & 144372.41  & 118671.85  & 383199.62  & New York   & 182901.99 \\\\\n",
       "\t5 & 142107.34  &  91391.77  & 366168.42  & Florida    & 166187.94 \\\\\n",
       "\t8 & 130298.13  & 145530.06  & 323876.68  & Florida    & 155752.60 \\\\\n",
       "\t11 & 101913.08  & 110594.11  & 229160.95  & Florida    & 146121.95 \\\\\n",
       "\t16 & 114523.61  & 122616.84  & 261776.23  & New York   & 129917.04 \\\\\n",
       "\t20 &  86419.70  & 153514.11  &      0.00  & New York   & 122776.86 \\\\\n",
       "\t21 &  76253.86  & 113867.30  & 298664.47  & California & 118474.03 \\\\\n",
       "\t24 &  67532.53  & 105751.03  & 304768.73  & Florida    & 108733.99 \\\\\n",
       "\t31 &  61994.48  & 115641.28  &  91131.24  & Florida    &  99937.59 \\\\\n",
       "\t32 &  61136.38  & 152701.92  &  88218.23  & New York   &  97483.56 \\\\\n",
       "\\end{tabular}\n"
      ],
      "text/markdown": [
       "\n",
       "| <!--/--> | R.D.Spend | Administration | Marketing.Spend | State | Profit | \n",
       "|---|---|---|---|---|---|---|---|---|---|\n",
       "| 4 | 144372.41  | 118671.85  | 383199.62  | New York   | 182901.99  | \n",
       "| 5 | 142107.34  |  91391.77  | 366168.42  | Florida    | 166187.94  | \n",
       "| 8 | 130298.13  | 145530.06  | 323876.68  | Florida    | 155752.60  | \n",
       "| 11 | 101913.08  | 110594.11  | 229160.95  | Florida    | 146121.95  | \n",
       "| 16 | 114523.61  | 122616.84  | 261776.23  | New York   | 129917.04  | \n",
       "| 20 |  86419.70  | 153514.11  |      0.00  | New York   | 122776.86  | \n",
       "| 21 |  76253.86  | 113867.30  | 298664.47  | California | 118474.03  | \n",
       "| 24 |  67532.53  | 105751.03  | 304768.73  | Florida    | 108733.99  | \n",
       "| 31 |  61994.48  | 115641.28  |  91131.24  | Florida    |  99937.59  | \n",
       "| 32 |  61136.38  | 152701.92  |  88218.23  | New York   |  97483.56  | \n",
       "\n",
       "\n"
      ],
      "text/plain": [
       "   R.D.Spend Administration Marketing.Spend State      Profit   \n",
       "4  144372.41 118671.85      383199.62       New York   182901.99\n",
       "5  142107.34  91391.77      366168.42       Florida    166187.94\n",
       "8  130298.13 145530.06      323876.68       Florida    155752.60\n",
       "11 101913.08 110594.11      229160.95       Florida    146121.95\n",
       "16 114523.61 122616.84      261776.23       New York   129917.04\n",
       "20  86419.70 153514.11           0.00       New York   122776.86\n",
       "21  76253.86 113867.30      298664.47       California 118474.03\n",
       "24  67532.53 105751.03      304768.73       Florida    108733.99\n",
       "31  61994.48 115641.28       91131.24       Florida     99937.59\n",
       "32  61136.38 152701.92       88218.23       New York    97483.56"
      ]
     },
     "metadata": {},
     "output_type": "display_data"
    }
   ],
   "source": [
    "y_pred = predict(regressor, newdata=test_set)\n",
    "y_pred\n",
    "\n",
    "test_set"
   ]
  },
  {
   "cell_type": "markdown",
   "metadata": {},
   "source": [
    "# Backward elimination\n",
    "\n",
    "We want all parts of predicting model to be strong parts. We will use `summary` function to implement backwards elimination."
   ]
  },
  {
   "cell_type": "code",
   "execution_count": 10,
   "metadata": {},
   "outputs": [
    {
     "data": {
      "text/plain": [
       "\n",
       "Call:\n",
       "lm(formula = Profit ~ R.D.Spend + Administration + Marketing.Spend + \n",
       "    State, data = df)\n",
       "\n",
       "Residuals:\n",
       "   Min     1Q Median     3Q    Max \n",
       "-33504  -4736     90   6672  17338 \n",
       "\n",
       "Coefficients:\n",
       "                  Estimate Std. Error t value Pr(>|t|)    \n",
       "(Intercept)      5.013e+04  6.885e+03   7.281 4.44e-09 ***\n",
       "R.D.Spend        8.060e-01  4.641e-02  17.369  < 2e-16 ***\n",
       "Administration  -2.700e-02  5.223e-02  -0.517    0.608    \n",
       "Marketing.Spend  2.698e-02  1.714e-02   1.574    0.123    \n",
       "StateFlorida     1.988e+02  3.371e+03   0.059    0.953    \n",
       "StateNew York   -4.189e+01  3.256e+03  -0.013    0.990    \n",
       "---\n",
       "Signif. codes:  0 ‘***’ 0.001 ‘**’ 0.01 ‘*’ 0.05 ‘.’ 0.1 ‘ ’ 1\n",
       "\n",
       "Residual standard error: 9439 on 44 degrees of freedom\n",
       "Multiple R-squared:  0.9508,\tAdjusted R-squared:  0.9452 \n",
       "F-statistic: 169.9 on 5 and 44 DF,  p-value: < 2.2e-16\n"
      ]
     },
     "metadata": {},
     "output_type": "display_data"
    }
   ],
   "source": [
    "regressor = lm(formula = Profit ~ R.D.Spend + Administration + Marketing.Spend + State, data=df)\n",
    "summary(regressor)"
   ]
  },
  {
   "cell_type": "code",
   "execution_count": 11,
   "metadata": {},
   "outputs": [
    {
     "data": {
      "text/plain": [
       "\n",
       "Call:\n",
       "lm(formula = Profit ~ R.D.Spend + Administration + Marketing.Spend, \n",
       "    data = df)\n",
       "\n",
       "Residuals:\n",
       "   Min     1Q Median     3Q    Max \n",
       "-33534  -4795     63   6606  17275 \n",
       "\n",
       "Coefficients:\n",
       "                  Estimate Std. Error t value Pr(>|t|)    \n",
       "(Intercept)      5.012e+04  6.572e+03   7.626 1.06e-09 ***\n",
       "R.D.Spend        8.057e-01  4.515e-02  17.846  < 2e-16 ***\n",
       "Administration  -2.682e-02  5.103e-02  -0.526    0.602    \n",
       "Marketing.Spend  2.723e-02  1.645e-02   1.655    0.105    \n",
       "---\n",
       "Signif. codes:  0 ‘***’ 0.001 ‘**’ 0.01 ‘*’ 0.05 ‘.’ 0.1 ‘ ’ 1\n",
       "\n",
       "Residual standard error: 9232 on 46 degrees of freedom\n",
       "Multiple R-squared:  0.9507,\tAdjusted R-squared:  0.9475 \n",
       "F-statistic:   296 on 3 and 46 DF,  p-value: < 2.2e-16\n"
      ]
     },
     "metadata": {},
     "output_type": "display_data"
    }
   ],
   "source": [
    "regressor = lm(formula = Profit ~ R.D.Spend + Administration + Marketing.Spend, data=df)\n",
    "summary(regressor)"
   ]
  },
  {
   "cell_type": "code",
   "execution_count": 12,
   "metadata": {},
   "outputs": [
    {
     "data": {
      "text/plain": [
       "\n",
       "Call:\n",
       "lm(formula = Profit ~ R.D.Spend + Marketing.Spend, data = df)\n",
       "\n",
       "Residuals:\n",
       "   Min     1Q Median     3Q    Max \n",
       "-33645  -4632   -414   6484  17097 \n",
       "\n",
       "Coefficients:\n",
       "                 Estimate Std. Error t value Pr(>|t|)    \n",
       "(Intercept)     4.698e+04  2.690e+03  17.464   <2e-16 ***\n",
       "R.D.Spend       7.966e-01  4.135e-02  19.266   <2e-16 ***\n",
       "Marketing.Spend 2.991e-02  1.552e-02   1.927     0.06 .  \n",
       "---\n",
       "Signif. codes:  0 ‘***’ 0.001 ‘**’ 0.01 ‘*’ 0.05 ‘.’ 0.1 ‘ ’ 1\n",
       "\n",
       "Residual standard error: 9161 on 47 degrees of freedom\n",
       "Multiple R-squared:  0.9505,\tAdjusted R-squared:  0.9483 \n",
       "F-statistic: 450.8 on 2 and 47 DF,  p-value: < 2.2e-16\n"
      ]
     },
     "metadata": {},
     "output_type": "display_data"
    }
   ],
   "source": [
    "regressor = lm(formula = Profit ~ R.D.Spend + Marketing.Spend, data=df)\n",
    "summary(regressor)"
   ]
  },
  {
   "cell_type": "markdown",
   "metadata": {},
   "source": [
    "# Automatic backward elimination code snippet\n",
    "\n",
    "The same procedure - but automatic!"
   ]
  },
  {
   "cell_type": "code",
   "execution_count": 16,
   "metadata": {},
   "outputs": [
    {
     "data": {
      "text/plain": [
       "\n",
       "Call:\n",
       "lm(formula = Profit ~ ., data = x)\n",
       "\n",
       "Residuals:\n",
       "   Min     1Q Median     3Q    Max \n",
       "-34334  -4894   -340   6752  17147 \n",
       "\n",
       "Coefficients:\n",
       "             Estimate Std. Error t value Pr(>|t|)    \n",
       "(Intercept) 4.902e+04  2.748e+03   17.84   <2e-16 ***\n",
       "R.D.Spend   8.563e-01  3.357e-02   25.51   <2e-16 ***\n",
       "---\n",
       "Signif. codes:  0 ‘***’ 0.001 ‘**’ 0.01 ‘*’ 0.05 ‘.’ 0.1 ‘ ’ 1\n",
       "\n",
       "Residual standard error: 9836 on 38 degrees of freedom\n",
       "Multiple R-squared:  0.9448,\tAdjusted R-squared:  0.9434 \n",
       "F-statistic: 650.8 on 1 and 38 DF,  p-value: < 2.2e-16\n"
      ]
     },
     "metadata": {},
     "output_type": "display_data"
    }
   ],
   "source": [
    "backwardElimination <- function(x, sl) {\n",
    "    numVars = length(x)\n",
    "    for (i in c(1:numVars)){\n",
    "      regressor = lm(formula = Profit ~ ., data = x)\n",
    "      maxVar = max(coef(summary(regressor))[c(2:numVars), \"Pr(>|t|)\"])\n",
    "      if (maxVar > sl){\n",
    "        j = which(coef(summary(regressor))[c(2:numVars), \"Pr(>|t|)\"] == maxVar)\n",
    "        x = x[, -j]\n",
    "      }\n",
    "      numVars = numVars - 1\n",
    "    }\n",
    "    return(summary(regressor))\n",
    "}\n",
    "  \n",
    "SL = 0.05\n",
    "dataset = df[, c(1,2,3,4,5)]\n",
    "backwardElimination(training_set, SL)"
   ]
  }
 ],
 "metadata": {
  "kernelspec": {
   "display_name": "R",
   "language": "R",
   "name": "ir"
  },
  "language_info": {
   "codemirror_mode": "r",
   "file_extension": ".r",
   "mimetype": "text/x-r-source",
   "name": "R",
   "pygments_lexer": "r",
   "version": "3.2.3"
  }
 },
 "nbformat": 4,
 "nbformat_minor": 2
}
