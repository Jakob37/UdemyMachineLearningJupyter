{
 "cells": [
  {
   "cell_type": "markdown",
   "metadata": {},
   "source": [
    "# The dataset\n",
    "\n",
    "'50 startups'. Different startups with variables:\n",
    "\n",
    "* Profit\n",
    "* R&D Spend\n",
    "* Administration\n",
    "* Marketing Spend\n",
    "* State - Categorical variable!\n",
    "\n",
    "What yields best results? Which companies are more interesting?"
   ]
  },
  {
   "cell_type": "markdown",
   "metadata": {},
   "source": [
    "# Regressions\n",
    "\n",
    "* Simple linear: One independent\n",
    "* Multiple linear: Several independent\n",
    "\n",
    "Assumptions:\n",
    "\n",
    "* Linearity: Data is actually linear\n",
    "* Homoscedasticity: Same finite variance - variance homogenous even for larger values.\n",
    "* Multivariate normality: Aha, normal distribution in multiple dimensions when combined. (Can it be different if sub-components are normal?)\n",
    "* Independence of errors: Errors are not systematic?\n",
    "* Lack of multicollinearity: Lines not codependent? No interaction?\n"
   ]
  },
  {
   "cell_type": "markdown",
   "metadata": {},
   "source": [
    "# Dummy variables\n",
    "\n",
    "Dummy variable: Replacing New York / California with a 0/1 value.\n",
    "\n",
    "If using multiple dummy variable levels - if you retain both it messes things up. You always include one less than levels. \n",
    "\n",
    "The risk: It leads to situation where one variable can be predicted using another.\n",
    "\n",
    "http://www.algosome.com/articles/dummy-variable-trap-regression.html\n",
    "\n"
   ]
  },
  {
   "cell_type": "markdown",
   "metadata": {},
   "source": [
    "# What is a p\n",
    "\n",
    "https://www.mathbootcamps.com/what-is-a-p-value/\n",
    "\n",
    "`P-value tells us how unlikely result is if hypothesis is true`.\n",
    "\n",
    "p = 0.18 here tells us that probability of getting a mean of 68.7 or less from sample of particular size is 0.18 if the peanuts in the population is 70 grams or more."
   ]
  },
  {
   "cell_type": "markdown",
   "metadata": {},
   "source": [
    "# How to build models - Step by step\n",
    "\n",
    "Framework for several methods. All columns potential predictors! Why do we want to trim our model?\n",
    "\n",
    "* Garbage in garbage out\n",
    "* Intuition - Need to be able to explain what's up\n",
    "\n",
    "## All-in\n",
    "\n",
    "Throw in all variables. When:\n",
    "\n",
    "* We have prior knowledge - Everything is valuable\n",
    "* Framework saying you have to use everything\n",
    "* Preparing for backward elimination\n",
    "\n",
    "## Backward Elimination (stepwise)\n",
    "\n",
    "Steps:\n",
    "\n",
    "* Select significance level to stay in model\n",
    "* Fit full model with *all* possible predictors\n",
    "* Consider predictor with *highest* value. If > threshold.\n",
    "* If so, remove the predictor\n",
    "* Re-fit the model without the variable\n",
    "\n",
    "## Forward Selection (stepwise)\n",
    "\n",
    "More complex than just reversing previous.\n",
    "\n",
    "* Select significance level\n",
    "* Fit all simple regression models `y ~ x_n`. Select with lowest p.\n",
    "* Keep this and fit all possible models with one extra predictor. Which additional is best?\n",
    "* Consider new with lowest p. Lower than threshold, repeat from 3.\n",
    "\n",
    "## Bidirectional Elimination (stepwise, or Stepwise)\n",
    "\n",
    "* Select level to enter and to stay\n",
    "* To enter, need to be less than SLENTER\n",
    "* Perform all backward elimination. Back to 2.\n",
    "* No new variables can enter and no variables can exit.\n",
    "\n",
    "## All possible models\n",
    "\n",
    "* Select criterion of goodness of fit\n",
    "* Construct all possible regression models\n",
    "* Select the one with the best criterion\n",
    "\n",
    "Can be very big!"
   ]
  },
  {
   "cell_type": "code",
   "execution_count": 6,
   "metadata": {},
   "outputs": [
    {
     "name": "stdout",
     "output_type": "stream",
     "text": [
      "[1] \"Loading module to 'visutil' and 'vu'\"\n"
     ]
    }
   ],
   "source": [
    "library(caTools)\n",
    "set.seed(123)\n",
    "\n",
    "source(\"~/src/jupyterrutils/VisualizationUtils.R\")"
   ]
  },
  {
   "cell_type": "code",
   "execution_count": 11,
   "metadata": {},
   "outputs": [
    {
     "data": {
      "text/html": [
       "<table>\n",
       "<thead><tr><th scope=col>R.D.Spend</th><th scope=col>Administration</th><th scope=col>Marketing.Spend</th><th scope=col>State</th><th scope=col>Profit</th></tr></thead>\n",
       "<tbody>\n",
       "\t<tr><td>165349.2  </td><td>136897.80 </td><td>471784.1  </td><td>New York  </td><td>192261.8  </td></tr>\n",
       "\t<tr><td>162597.7  </td><td>151377.59 </td><td>443898.5  </td><td>California</td><td>191792.1  </td></tr>\n",
       "\t<tr><td>153441.5  </td><td>101145.55 </td><td>407934.5  </td><td>Florida   </td><td>191050.4  </td></tr>\n",
       "\t<tr><td>144372.4  </td><td>118671.85 </td><td>383199.6  </td><td>New York  </td><td>182902.0  </td></tr>\n",
       "\t<tr><td>142107.3  </td><td> 91391.77 </td><td>366168.4  </td><td>Florida   </td><td>166187.9  </td></tr>\n",
       "\t<tr><td>131876.9  </td><td> 99814.71 </td><td>362861.4  </td><td>New York  </td><td>156991.1  </td></tr>\n",
       "</tbody>\n",
       "</table>\n"
      ],
      "text/latex": [
       "\\begin{tabular}{r|lllll}\n",
       " R.D.Spend & Administration & Marketing.Spend & State & Profit\\\\\n",
       "\\hline\n",
       "\t 165349.2   & 136897.80  & 471784.1   & New York   & 192261.8  \\\\\n",
       "\t 162597.7   & 151377.59  & 443898.5   & California & 191792.1  \\\\\n",
       "\t 153441.5   & 101145.55  & 407934.5   & Florida    & 191050.4  \\\\\n",
       "\t 144372.4   & 118671.85  & 383199.6   & New York   & 182902.0  \\\\\n",
       "\t 142107.3   &  91391.77  & 366168.4   & Florida    & 166187.9  \\\\\n",
       "\t 131876.9   &  99814.71  & 362861.4   & New York   & 156991.1  \\\\\n",
       "\\end{tabular}\n"
      ],
      "text/markdown": [
       "\n",
       "R.D.Spend | Administration | Marketing.Spend | State | Profit | \n",
       "|---|---|---|---|---|---|\n",
       "| 165349.2   | 136897.80  | 471784.1   | New York   | 192261.8   | \n",
       "| 162597.7   | 151377.59  | 443898.5   | California | 191792.1   | \n",
       "| 153441.5   | 101145.55  | 407934.5   | Florida    | 191050.4   | \n",
       "| 144372.4   | 118671.85  | 383199.6   | New York   | 182902.0   | \n",
       "| 142107.3   |  91391.77  | 366168.4   | Florida    | 166187.9   | \n",
       "| 131876.9   |  99814.71  | 362861.4   | New York   | 156991.1   | \n",
       "\n",
       "\n"
      ],
      "text/plain": [
       "  R.D.Spend Administration Marketing.Spend State      Profit  \n",
       "1 165349.2  136897.80      471784.1        New York   192261.8\n",
       "2 162597.7  151377.59      443898.5        California 191792.1\n",
       "3 153441.5  101145.55      407934.5        Florida    191050.4\n",
       "4 144372.4  118671.85      383199.6        New York   182902.0\n",
       "5 142107.3   91391.77      366168.4        Florida    166187.9\n",
       "6 131876.9   99814.71      362861.4        New York   156991.1"
      ]
     },
     "metadata": {},
     "output_type": "display_data"
    },
    {
     "name": "stdout",
     "output_type": "stream",
     "text": [
      " Factor w/ 3 levels \"California\",\"Florida\",..: 3 1 2 3 2 3 1 2 3 1 ...\n"
     ]
    },
    {
     "data": {
      "text/html": [
       "<ol class=list-inline>\n",
       "\t<li>50</li>\n",
       "\t<li>5</li>\n",
       "</ol>\n"
      ],
      "text/latex": [
       "\\begin{enumerate*}\n",
       "\\item 50\n",
       "\\item 5\n",
       "\\end{enumerate*}\n"
      ],
      "text/markdown": [
       "1. 50\n",
       "2. 5\n",
       "\n",
       "\n"
      ],
      "text/plain": [
       "[1] 50  5"
      ]
     },
     "metadata": {},
     "output_type": "display_data"
    },
    {
     "data": {
      "text/html": [
       "<ol class=list-inline>\n",
       "\t<li>40</li>\n",
       "\t<li>5</li>\n",
       "</ol>\n"
      ],
      "text/latex": [
       "\\begin{enumerate*}\n",
       "\\item 40\n",
       "\\item 5\n",
       "\\end{enumerate*}\n"
      ],
      "text/markdown": [
       "1. 40\n",
       "2. 5\n",
       "\n",
       "\n"
      ],
      "text/plain": [
       "[1] 40  5"
      ]
     },
     "metadata": {},
     "output_type": "display_data"
    },
    {
     "data": {
      "text/html": [
       "<ol class=list-inline>\n",
       "\t<li>10</li>\n",
       "\t<li>5</li>\n",
       "</ol>\n"
      ],
      "text/latex": [
       "\\begin{enumerate*}\n",
       "\\item 10\n",
       "\\item 5\n",
       "\\end{enumerate*}\n"
      ],
      "text/markdown": [
       "1. 10\n",
       "2. 5\n",
       "\n",
       "\n"
      ],
      "text/plain": [
       "[1] 10  5"
      ]
     },
     "metadata": {},
     "output_type": "display_data"
    }
   ],
   "source": [
    "fp <- \"../machine_learning_template_folder/Part 2 - Regression/Section 5 - Multiple Linear Regression/Multiple_Linear_Regression/50_Startups.csv\"\n",
    "df <- read.csv(fp)\n",
    "head(df)\n",
    "\n",
    "df$State <- factor(df$State)\n",
    "str(df$State)\n",
    "\n",
    "split <- sample.split(df$Profit, SplitRatio = 0.8)\n",
    "training_set <- subset(df, split==T)\n",
    "test_set <- subset(df, split==F)\n",
    "\n",
    "dim(df)\n",
    "dim(training_set)\n",
    "dim(test_set)"
   ]
  },
  {
   "cell_type": "markdown",
   "metadata": {},
   "source": [
    "Feature scaling handled by the regression model, so we don't need this as separate step"
   ]
  },
  {
   "cell_type": "code",
   "execution_count": null,
   "metadata": {
    "collapsed": true
   },
   "outputs": [],
   "source": []
  }
 ],
 "metadata": {
  "kernelspec": {
   "display_name": "R",
   "language": "R",
   "name": "ir"
  },
  "language_info": {
   "codemirror_mode": "r",
   "file_extension": ".r",
   "mimetype": "text/x-r-source",
   "name": "R",
   "pygments_lexer": "r",
   "version": "3.2.3"
  }
 },
 "nbformat": 4,
 "nbformat_minor": 2
}
